{
 "cells": [
  {
   "cell_type": "markdown",
   "metadata": {},
   "source": [
    "# Testing AWaRe on glitch data from GravitySpy"
   ]
  },
  {
   "cell_type": "code",
   "execution_count": 1,
   "metadata": {},
   "outputs": [],
   "source": [
    "from __future__ import print_function\n",
    "from matplotlib import pyplot as plt\n",
    "plt.switch_backend('agg')\n",
    "%matplotlib inline\n",
    "import numpy as np\n",
    "#import pandas as pd\n",
    "\n",
    "from IPython.display import display, HTML\n",
    "import tensorflow as tf\n",
    "#import numpy as np\n",
    "#import pandas as pd\n",
    "#import random as ran\n",
    "import h5py\n",
    "\n",
    "import pandas as pd\n"
   ]
  },
  {
   "cell_type": "code",
   "execution_count": 2,
   "metadata": {},
   "outputs": [],
   "source": [
    "def Overlap_calc(hp,sp,psd):\n",
    "    f_low = 30\n",
    "    m, i = match(hp, sp, psd=psd, low_frequency_cutoff=f_low)\n",
    "    o = overlap(hp, sp, psd=psd, low_frequency_cutoff=f_low)\n",
    "    return o\n"
   ]
  },
  {
   "cell_type": "code",
   "execution_count": 3,
   "metadata": {},
   "outputs": [],
   "source": [
    "def _preprocess_data(data, num, samples):\n",
    "    new_array = []\n",
    "    for i in range(num):\n",
    "        dataset = data[i]\n",
    "        if((dataset.max() != 0.0) and (dataset.min() != 0.0)):\n",
    "            maximum = np.max(dataset)\n",
    "            minimum = np.abs(np.min(dataset))\n",
    "            for j in range(samples):\n",
    "                if(dataset[j] > 0):\n",
    "                    dataset[j] = dataset[j]/maximum\n",
    "                else:\n",
    "                    dataset[j] = dataset[j]/minimum\n",
    "        new_array.append(dataset)\n",
    "    return new_array, maximum, minimum\n"
   ]
  },
  {
   "cell_type": "markdown",
   "metadata": {},
   "source": [
    "# Defining functions to preprocessing the data"
   ]
  },
  {
   "cell_type": "code",
   "execution_count": 4,
   "metadata": {},
   "outputs": [],
   "source": [
    "# Split a univariate sequence into samples\n",
    "#def split_sequence(sequence_noisy,sequence_pure,n_steps):\n",
    "def split_sequence(sequence_noisy,n_steps):\n",
    "    X = [] \n",
    "#    y = []\n",
    "    for i in range(len(sequence_noisy)):\n",
    "    # find the end of this pattern\n",
    "        end_ix = i + n_steps\n",
    "        # check if we are beyond the sequence\n",
    "        if end_ix > len(sequence_noisy)-1:\n",
    "            break\n",
    "        # gather input and output parts of the pattern\n",
    "        seq_x = sequence_noisy[i:end_ix] \n",
    "#        seq_y = sequence_pure[end_ix]\n",
    "        X.append(seq_x)\n",
    "#        y.append(seq_y)\n",
    "#    return array(X), array(y)\n",
    "    return np.array(X)\n",
    "    \n",
    "    \n",
    "#def reshape_sequences(self, num, data_noisy, data_pure):\n",
    "def reshape_sequences(num, data_noisy):\n",
    "    n_steps = 10\n",
    "    arr_noisy = []\n",
    "#    arr_pure = []\n",
    "        \n",
    "    for i in range(num):\n",
    "        X_noisy = data_noisy[i]\n",
    "#        X_pure = data_pure[i]\n",
    "        X_noisy = np.pad(X_noisy, (n_steps, n_steps), 'constant', constant_values=(0, 0))\n",
    "#        X_pure = np.pad(X_pure, (n_steps, n_steps), 'constant', constant_values=(0, 0))\n",
    "        # split into samples\n",
    "#        X, y = self.split_sequence(X_noisy, X_pure, n_steps)\n",
    "        X = split_sequence(X_noisy, n_steps)\n",
    "        arr_noisy.append(X)\n",
    "#        arr_pure.append(y)\n",
    "    \n",
    "    arr_noisy = np.asarray(arr_noisy)\n",
    "#    arr_pure = np.asarray(arr_pure)\n",
    "        \n",
    "#    return arr_noisy, arr_pure\n",
    "    return arr_noisy\n"
   ]
  },
  {
   "cell_type": "markdown",
   "metadata": {},
   "source": [
    "# Defining custom classes"
   ]
  },
  {
   "cell_type": "code",
   "execution_count": 6,
   "metadata": {},
   "outputs": [],
   "source": [
    "class TimeDistributedMultiHeadAttention(tf.keras.layers.Layer):\n",
    "        def __init__(self, num_heads, key_dim, **kwargs):\n",
    "            super().__init__(**kwargs)\n",
    "            self.num_heads = num_heads\n",
    "            self.key_dim = key_dim\n",
    "            self.multi_head_attention = tf.keras.layers.MultiHeadAttention(num_heads=num_heads, key_dim=key_dim)\n",
    "\n",
    "        def call(self, inputs):\n",
    "            # Use tf.shape for dynamic shape and inputs.shape for static shape\n",
    "            shape = tf.shape(inputs)\n",
    "            static_shape = inputs.shape\n",
    "            batch_size, num_subsequences, subsequence_length = shape[0], static_shape[1], static_shape[2]\n",
    "            features = static_shape[3]\n",
    "\n",
    "            reshaped_inputs = tf.reshape(inputs, [-1, subsequence_length, features])\n",
    "\n",
    "            # Apply multi-head attention to each subsequence individually\n",
    "            attention_output = self.multi_head_attention(reshaped_inputs, reshaped_inputs)\n",
    "\n",
    "            # Reshape the output back to the original input shape\n",
    "            output_shape = [-1, num_subsequences, subsequence_length, features]\n",
    "            return tf.reshape(attention_output, output_shape)\n",
    "\n",
    "        def compute_output_shape(self, input_shape):\n",
    "            return input_shape\n",
    "        \n",
    "        def get_config(self):\n",
    "            config = super().get_config()\n",
    "            config.update({\n",
    "                'num_heads': self.num_heads,\n",
    "                'key_dim': self.key_dim\n",
    "            })\n",
    "            return config\n"
   ]
  },
  {
   "cell_type": "markdown",
   "metadata": {},
   "source": [
    "# Read glitch data"
   ]
  },
  {
   "cell_type": "code",
   "execution_count": 8,
   "metadata": {},
   "outputs": [
    {
     "data": {
      "text/plain": [
       "(92, 2049)"
      ]
     },
     "execution_count": 8,
     "metadata": {},
     "output_type": "execute_result"
    }
   ],
   "source": [
    "f1 = h5py.File('Glitch_data/combined_strains_snr_blip_whitened_1.hdf5', 'r')\n",
    "\n",
    "noise_strain_blip = f1['Strain'][()]\n",
    "noise_strain_blip_norm, maximum, minimum = _preprocess_data(noise_strain_blip, noise_strain_blip.shape[0], 2048)\n",
    "noise_strain_blip_norm = np.array(noise_strain_blip_norm)\n",
    "noise_strain_blip_norm.shape\n"
   ]
  },
  {
   "cell_type": "code",
   "execution_count": 9,
   "metadata": {},
   "outputs": [
    {
     "data": {
      "text/plain": [
       "(27, 2048)"
      ]
     },
     "execution_count": 9,
     "metadata": {},
     "output_type": "execute_result"
    }
   ],
   "source": [
    "f2 = h5py.File('Glitch_data/combined_strains_snr_koi_fish_whitened.hdf5', 'r')\n",
    "\n",
    "noise_strain_koi_fish = f2['Strain'][()]\n",
    "noise_strain_koi_fish_norm, maximum, minimum = _preprocess_data(noise_strain_koi_fish, noise_strain_koi_fish.shape[0], 2048)\n",
    "noise_strain_koi_fish_norm = np.array(noise_strain_koi_fish_norm)\n",
    "noise_strain_koi_fish_norm.shape\n",
    "\n",
    "f3 = h5py.File('Glitch_data/combined_strains_snr_low_freq_burst_whitened_1.hdf5', 'r')\n",
    "\n",
    "noise_strain_low_freq_burst = f3['Strain'][()]\n",
    "noise_strain_low_freq_burst_norm, maximum, minimum = _preprocess_data(noise_strain_low_freq_burst, noise_strain_low_freq_burst.shape[0], 2048)\n",
    "noise_strain_low_freq_burst_norm = np.array(noise_strain_low_freq_burst_norm)\n",
    "noise_strain_low_freq_burst_norm.shape\n",
    "\n",
    "f4 = h5py.File('Glitch_data/combined_strains_snr_whistle_whitened_1.hdf5', 'r')\n",
    "\n",
    "noise_strain_whistle = f4['Strain'][()]\n",
    "noise_strain_whistle_norm, maximum, minimum = _preprocess_data(noise_strain_whistle, noise_strain_whistle.shape[0], 2048)\n",
    "noise_strain_whistle_norm = np.array(noise_strain_whistle_norm)\n",
    "noise_strain_whistle_norm.shape\n",
    "\n",
    "f5 = h5py.File('Glitch_data/combined_strains_snr_scattered_light_whitened_1.hdf5', 'r')\n",
    "\n",
    "noise_strain_scattered_light = f5['Strain'][()]\n",
    "noise_strain_scattered_light_norm, maximum, minimum = _preprocess_data(noise_strain_scattered_light, noise_strain_scattered_light.shape[0], 2048)\n",
    "noise_strain_scattered_light_norm = np.array(noise_strain_scattered_light_norm)\n",
    "noise_strain_scattered_light_norm.shape\n"
   ]
  },
  {
   "cell_type": "markdown",
   "metadata": {},
   "source": [
    "# Read glitch SNR"
   ]
  },
  {
   "cell_type": "code",
   "execution_count": 10,
   "metadata": {},
   "outputs": [],
   "source": [
    "snr_blip = f1['SNR'][()]\n",
    "snr_koi_fish = f2['SNR'][()]\n",
    "snr_low_freq_burst = f3['SNR'][()]\n",
    "snr_whistle = f4['SNR'][()]\n",
    "snr_scattered_light = f5['SNR'][()]"
   ]
  },
  {
   "cell_type": "markdown",
   "metadata": {},
   "source": [
    "# Preparaing data to be applied to network for testing"
   ]
  },
  {
   "cell_type": "code",
   "execution_count": 11,
   "metadata": {},
   "outputs": [
    {
     "name": "stdout",
     "output_type": "stream",
     "text": [
      "x_test_strain_blip shape: (92, 2058, 10, 1)\n",
      "x_test_strain_koi_fish shape: (18, 2058, 10, 1)\n",
      "x_test_strain_low_freq_burst shape: (42, 2058, 10, 1)\n",
      "x_test_strain_whistle shape: (78, 2058, 10, 1)\n",
      "x_test_strain_scattered_light shape: (27, 2058, 10, 1)\n"
     ]
    }
   ],
   "source": [
    "X_test_noise_blip = reshape_sequences(noise_strain_blip_norm.shape[0], noise_strain_blip)\n",
    "X_test_noise_koi_fish = reshape_sequences(noise_strain_koi_fish_norm.shape[0], noise_strain_koi_fish)\n",
    "X_test_noise_low_freq_burst = reshape_sequences(noise_strain_low_freq_burst_norm.shape[0], noise_strain_low_freq_burst)\n",
    "X_test_noise_whistle = reshape_sequences(noise_strain_whistle_norm.shape[0], noise_strain_whistle)\n",
    "X_test_noise_scattered_light = reshape_sequences(noise_strain_scattered_light_norm.shape[0], noise_strain_scattered_light)\n",
    "\n",
    "# Reshape arrays to fit into Keras model\n",
    "X_test_noise_blip = X_test_noise_blip[:,0:2058,:,None]\n",
    "print('x_test_strain_blip shape:', X_test_noise_blip.shape)\n",
    "X_test_noise_blip = X_test_noise_blip.astype(\"float32\")\n",
    "\n",
    "# Reshape arrays to fit into Keras model\n",
    "X_test_noise_koi_fish = X_test_noise_koi_fish[:,:,:,None]\n",
    "print('x_test_strain_koi_fish shape:', X_test_noise_koi_fish.shape)\n",
    "X_test_noise_koi_fish = X_test_noise_koi_fish.astype(\"float32\")\n",
    "\n",
    "# Reshape arrays to fit into Keras model\n",
    "X_test_noise_low_freq_burst = X_test_noise_low_freq_burst[:,:,:,None]\n",
    "print('x_test_strain_low_freq_burst shape:', X_test_noise_low_freq_burst.shape)\n",
    "X_test_noise_low_freq_burst = X_test_noise_low_freq_burst.astype(\"float32\")\n",
    "\n",
    "# Reshape arrays to fit into Keras model\n",
    "X_test_noise_whistle = X_test_noise_whistle[:,0:2058,:,None]\n",
    "print('x_test_strain_whistle shape:', X_test_noise_whistle.shape)\n",
    "X_test_noise_whistle = X_test_noise_whistle.astype(\"float32\")\n",
    "\n",
    "# Reshape arrays to fit into Keras model\n",
    "X_test_noise_scattered_light = X_test_noise_scattered_light[:,:,:,None]\n",
    "print('x_test_strain_scattered_light shape:', X_test_noise_scattered_light.shape)\n",
    "X_test_noise_scattered_light = X_test_noise_scattered_light.astype(\"float32\")\n"
   ]
  },
  {
   "cell_type": "markdown",
   "metadata": {},
   "source": [
    "# Importing trained model"
   ]
  },
  {
   "cell_type": "code",
   "execution_count": 12,
   "metadata": {},
   "outputs": [],
   "source": [
    "import tensorflow as tf\n",
    "import tensorflow_probability as tfp\n",
    "\n",
    "class NegativeLogLikelihood:\n",
    "    def __call__(self, y, rv_y):\n",
    "        return -rv_y.log_prob(y)\n",
    "\n",
    "negloglik = NegativeLogLikelihood()\n",
    "\n",
    "model = tf.keras.models.load_model('../model/Saved_models/Trained_model.h5', custom_objects={'TimeDistributedMultiHeadAttention': TimeDistributedMultiHeadAttention, 'IndependentNormal': tfp.layers.IndependentNormal,'negloglik': negloglik})\n"
   ]
  },
  {
   "cell_type": "markdown",
   "metadata": {},
   "source": [
    "# Testing glitches on trained model"
   ]
  },
  {
   "cell_type": "code",
   "execution_count": 17,
   "metadata": {},
   "outputs": [],
   "source": [
    "distribution_blip = model(X_test_noise_blip)\n",
    "    \n",
    "# Extract mean and standard deviation from the distribution\n",
    "mean_preds_blip = distribution_blip.mean()*100.0\n",
    "std_preds_blip = distribution_blip.stddev()*100.0\n",
    " \n",
    "mean_preds_blip = mean_preds_blip.numpy().squeeze()\n",
    "std_preds_blip = std_preds_blip.numpy().squeeze()\n",
    "\n",
    "# Calculate the upper and lower bounds of the 2-standard deviation interval\n",
    "lower_bound_90_blip = mean_preds_blip - 1.645 * std_preds_blip\n",
    "upper_bound_90_blip = mean_preds_blip + 1.645 * std_preds_blip\n",
    "\n",
    "lower_bound_50_blip = mean_preds_blip - 0.6745 * std_preds_blip\n",
    "upper_bound_50_blip = mean_preds_blip + 0.6745 * std_preds_blip\n"
   ]
  },
  {
   "cell_type": "code",
   "execution_count": 26,
   "metadata": {},
   "outputs": [
    {
     "data": {
      "text/plain": [
       "<matplotlib.collections.PolyCollection at 0x7fb593c844c0>"
      ]
     },
     "execution_count": 26,
     "metadata": {},
     "output_type": "execute_result"
    },
    {
     "data": {
      "image/png": "[encoded data removed]",
      "text/plain": [
       "<Figure size 432x288 with 1 Axes>"
      ]
     },
     "metadata": {
      "needs_background": "light"
     },
     "output_type": "display_data"
    }
   ],
   "source": [
    "f1 = h5py.File('Glitch_data/combined_strains_snr_blip_whitened_1.hdf5', 'r')\n",
    "\n",
    "blip_strain = f1['Strain'][()]\n",
    "\n",
    "time = np.linspace(0, 1.0, 2048)\n",
    "\n",
    "plt.plot(time, blip_strain[0][0:2048], alpha=0.5)\n",
    "plt.plot(time, mean_preds_blip[0][0:2048])\n",
    "plt.fill_between(time, lower_bound_90_blip[0][0:2048], upper_bound_90_blip[0][0:2048], color='yellow')"
   ]
  },
  {
   "cell_type": "code",
   "execution_count": 27,
   "metadata": {},
   "outputs": [],
   "source": [
    "distribution_koi_fish = model(X_test_noise_koi_fish)\n",
    "    \n",
    "# Extract mean and standard deviation from the distribution\n",
    "mean_preds_koi_fish = distribution_koi_fish.mean()*100.0\n",
    "std_preds_koi_fish = distribution_koi_fish.stddev()*100.0\n",
    " \n",
    "mean_preds_koi_fish = mean_preds_koi_fish.numpy().squeeze()\n",
    "std_preds_koi_fish= std_preds_koi_fish.numpy().squeeze()\n",
    "\n",
    "# Calculate the upper and lower bounds of the 2-standard deviation interval\n",
    "lower_bound_90_koi_fish = mean_preds_koi_fish - 1.645 * std_preds_koi_fish\n",
    "upper_bound_90_koi_fish = mean_preds_koi_fish + 1.645 * std_preds_koi_fish\n",
    "\n",
    "lower_bound_50_koi_fish = mean_preds_koi_fish - 0.6745 * std_preds_koi_fish\n",
    "upper_bound_50_koi_fish = mean_preds_koi_fish + 0.6745 * std_preds_koi_fish\n"
   ]
  },
  {
   "cell_type": "code",
   "execution_count": 39,
   "metadata": {},
   "outputs": [],
   "source": [
    "distribution_low_freq_burst = model(X_test_noise_low_freq_burst)\n",
    "    \n",
    "# Extract mean and standard deviation from the distribution\n",
    "mean_preds_low_freq_burst = distribution_low_freq_burst.mean()*100.0\n",
    "std_preds_low_freq_burst = distribution_low_freq_burst.stddev()*100.0\n",
    " \n",
    "mean_preds_low_freq_burst = mean_preds_low_freq_burst.numpy().squeeze()\n",
    "std_preds_low_freq_burst= std_preds_low_freq_burst.numpy().squeeze()\n",
    "\n",
    "# Calculate the upper and lower bounds of the 2-standard deviation interval\n",
    "lower_bound_90_low_freq_burst = mean_preds_low_freq_burst - 1.645 * std_preds_low_freq_burst\n",
    "upper_bound_90_low_freq_burst = mean_preds_low_freq_burst + 1.645 * std_preds_low_freq_burst\n",
    "\n",
    "lower_bound_50_low_freq_burst = mean_preds_low_freq_burst - 0.6745 * std_preds_low_freq_burst\n",
    "upper_bound_50_low_freq_burst = mean_preds_low_freq_burst + 0.6745 * std_preds_low_freq_burst\n"
   ]
  },
  {
   "cell_type": "code",
   "execution_count": 40,
   "metadata": {},
   "outputs": [],
   "source": [
    "distribution_whistle = model(X_test_noise_whistle)\n",
    "    \n",
    "# Extract mean and standard deviation from the distribution\n",
    "mean_preds_whistle = distribution_whistle.mean()*100.0\n",
    "std_preds_whistle = distribution_whistle.stddev()*100.0\n",
    " \n",
    "mean_preds_whistle = mean_preds_whistle.numpy().squeeze()\n",
    "std_preds_whistle = std_preds_whistle.numpy().squeeze()\n",
    "\n",
    "# Calculate the upper and lower bounds of the 2-standard deviation interval\n",
    "lower_bound_90_whistle = mean_preds_whistle - 1.645 * std_preds_whistle\n",
    "upper_bound_90_whistle = mean_preds_whistle + 1.645 * std_preds_whistle\n",
    "\n",
    "lower_bound_50_whistle = mean_preds_whistle - 0.6745 * std_preds_whistle\n",
    "upper_bound_50_whistle = mean_preds_whistle + 0.6745 * std_preds_whistle\n"
   ]
  },
  {
   "cell_type": "code",
   "execution_count": 42,
   "metadata": {},
   "outputs": [],
   "source": [
    "distribution_scattered_light = model(X_test_noise_scattered_light)\n",
    "    \n",
    "# Extract mean and standard deviation from the distribution\n",
    "mean_preds_scattered_light = distribution_scattered_light.mean()*100.0\n",
    "std_preds_scattered_light = distribution_scattered_light.stddev()*100.0\n",
    " \n",
    "mean_preds_scattered_light = mean_preds_scattered_light.numpy().squeeze()\n",
    "std_preds_scattered_light = std_preds_scattered_light.numpy().squeeze()\n",
    "\n",
    "# Calculate the upper and lower bounds of the 2-standard deviation interval\n",
    "lower_bound_90_scattered_light = mean_preds_scattered_light - 1.645 * std_preds_scattered_light\n",
    "upper_bound_90_scattered_light = mean_preds_scattered_light + 1.645 * std_preds_scattered_light\n",
    "\n",
    "lower_bound_50_whistle = mean_preds_scattered_light - 0.6745 * std_preds_scattered_light\n",
    "upper_bound_50_whistle = mean_preds_scattered_light + 0.6745 * std_preds_scattered_light\n"
   ]
  },
  {
   "cell_type": "markdown",
   "metadata": {},
   "source": [
    "# Computing SNR of reconstructions"
   ]
  },
  {
   "cell_type": "code",
   "execution_count": 49,
   "metadata": {},
   "outputs": [],
   "source": [
    "from pycbc.filter import sigma, sigmasq, matched_filter\n",
    "from pycbc.types import TimeSeries\n",
    "\n",
    "snr_denoised_blip = np.array([sigmasq(TimeSeries((signal).astype('float64'), delta_t = 1.0/2048), \n",
    "                                    psd=None,low_frequency_cutoff=30.0) for signal in mean_preds_blip])**0.5\n",
    "\n",
    "snr_denoised_koi_fish = np.array([sigmasq(TimeSeries((signal).astype('float64'), delta_t = 1.0/2048), \n",
    "                                    psd=None,low_frequency_cutoff=30.0) for signal in mean_preds_koi_fish])**0.5\n",
    "\n",
    "snr_denoised_low_freq_burst = np.array([sigmasq(TimeSeries((signal).astype('float64'), delta_t = 1.0/2048), \n",
    "                                    psd=None,low_frequency_cutoff=30.0) for signal in mean_preds_low_freq_burst])**0.5\n",
    "\n",
    "snr_denoised_whistle = np.array([sigmasq(TimeSeries((signal).astype('float64'), delta_t = 1.0/2048), \n",
    "                                    psd=None,low_frequency_cutoff=30.0) for signal in mean_preds_whistle])**0.5\n",
    "\n",
    "snr_denoised_scattered_light = np.array([sigmasq(TimeSeries((signal).astype('float64'), delta_t = 1.0/2048), \n",
    "                                    psd=None,low_frequency_cutoff=30.0) for signal in mean_preds_scattered_light])**0.5\n"
   ]
  },
  {
   "cell_type": "markdown",
   "metadata": {},
   "source": [
    "# Plotting the recovered vs. glitch SNR"
   ]
  },
  {
   "cell_type": "code",
   "execution_count": 50,
   "metadata": {},
   "outputs": [
    {
     "data": {
      "text/plain": [
       "<matplotlib.legend.Legend at 0x7fb5868600d0>"
      ]
     },
     "execution_count": 50,
     "metadata": {},
     "output_type": "execute_result"
    },
    {
     "data": {
      "image/png": "[encoded data removed]",
      "text/plain": [
       "<Figure size 576x576 with 1 Axes>"
      ]
     },
     "metadata": {
      "needs_background": "light"
     },
     "output_type": "display_data"
    }
   ],
   "source": [
    "import numpy as np\n",
    "import matplotlib.pyplot as plt\n",
    "import seaborn as sns\n",
    "import matplotlib.gridspec as gridspec\n",
    "from mpl_toolkits.axes_grid1.inset_locator import inset_axes\n",
    "import matplotlib.colors as mcolors\n",
    "import matplotlib_latex_bridge as mlb\n",
    "\n",
    "mlb.setup_page(**mlb.formats.article_letterpaper_10pt_singlecolumn)\n",
    "\n",
    "# Create a figure with GridSpec layout\n",
    "fig = plt.figure(figsize=(8, 8))  # Increased figure size\n",
    "gs = gridspec.GridSpec(2, 2, width_ratios=[4, 1], height_ratios=[1, 4], hspace=0.05, wspace=0.05)\n",
    "\n",
    "palette_crest = sns.color_palette(\"crest\", n_colors=15)\n",
    "palette_flare = sns.color_palette(\"flare\", n_colors=15)\n",
    "\n",
    "# Main scatter plot\n",
    "sns.scatterplot(x=snr_blip, y=snr_denoised_blip, s=50, color=palette_flare[0], label='Blip', legend=True)\n",
    "sns.scatterplot(x=snr_scattered_light, y=snr_denoised_scattered_light, s=50, color=palette_flare[8], label='Scattered light', legend=True)\n",
    "sns.scatterplot(x=snr_low_freq_burst, y=snr_denoised_low_freq_burst, s=50, color=palette_crest[0], label='Low frequency burst', legend=True)\n",
    "sns.scatterplot(x=snr_whistle, y=snr_denoised_whistle, s=50, color=palette_crest[7], label='Whistle', legend=True)\n",
    "sns.scatterplot(x=snr_koi_fish, y=snr_denoised_koi_fish, s=50, color=palette_crest[14], label='Koi fish', legend=True)\n",
    "\n",
    "\n",
    "plt.xlabel('Glitch SNR', fontsize=15)\n",
    "plt.ylabel('Recovered SNR', fontsize=15)\n",
    "#plt.ylim(-1,30)\n",
    "plt.tick_params(axis='x', labelsize=15)\n",
    "plt.tick_params(axis=\"y\", labelsize=15)\n",
    "plt.grid(False)  # Turn off gridlines\n",
    "plt.legend(fontsize=15)\n",
    "\n",
    "plt.savefig('Plots/Glitch_test_scatter_plot.png', bbox_inches=\"tight\", facecolor='w', transparent=False, dpi=400)\n"
   ]
  },
  {
   "cell_type": "code",
   "execution_count": null,
   "metadata": {},
   "outputs": [],
   "source": []
  },
  {
   "cell_type": "code",
   "execution_count": null,
   "metadata": {},
   "outputs": [],
   "source": []
  }
 ],
 "metadata": {
  "kernelspec": {
   "display_name": "tensorflow2.7",
   "language": "python",
   "name": "python3"
  },
  "language_info": {
   "codemirror_mode": {
    "name": "ipython",
    "version": 3
   },
   "file_extension": ".py",
   "mimetype": "text/x-python",
   "name": "python",
   "nbconvert_exporter": "python",
   "pygments_lexer": "ipython3",
   "version": "3.9.6"
  }
 },
 "nbformat": 4,
 "nbformat_minor": 2
}
