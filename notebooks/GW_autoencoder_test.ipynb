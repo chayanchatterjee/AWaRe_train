{
 "cells": [
  {
   "cell_type": "markdown",
   "metadata": {},
   "source": [
    "# CNN - LSTM autoencoder model for waveform extraction from O2 noise\n"
   ]
  },
  {
   "cell_type": "markdown",
   "metadata": {},
   "source": [
    "Evaluation of CNN-LSTM denoising autoencoder model on BBH samples injected in real noise alongwith test of robustness against Gaussian and sine-Gaussian glitch injections"
   ]
  },
  {
   "cell_type": "code",
   "execution_count": 1,
   "metadata": {},
   "outputs": [],
   "source": [
    "from __future__ import print_function\n",
    "from matplotlib import pyplot as plt\n",
    "plt.switch_backend('agg')\n",
    "%matplotlib inline\n",
    "import numpy as np\n",
    "import pandas as pd\n",
    "\n",
    "from IPython.display import display, HTML\n",
    "import tensorflow as tf\n",
    "import numpy as np\n",
    "import pandas as pd\n",
    "from SampleFileTools1 import SampleFile\n",
    "import random as ran\n",
    "import h5py\n"
   ]
  },
  {
   "cell_type": "markdown",
   "metadata": {},
   "source": [
    "# Load data"
   ]
  },
  {
   "cell_type": "code",
   "execution_count": 163,
   "metadata": {},
   "outputs": [
    {
     "data": {
      "text/plain": [
       "['injection_parameters', 'signals', 'simulation_ranges']"
      ]
     },
     "execution_count": 163,
     "metadata": {},
     "output_type": "execute_result"
    }
   ],
   "source": [
    "f1 = h5py.File('/fred/oz016/denoising/q/100k_q_snr_10-30_4.hdf', 'r')\n",
    "list(f1.keys())\n"
   ]
  },
  {
   "cell_type": "code",
   "execution_count": 164,
   "metadata": {},
   "outputs": [
    {
     "data": {
      "text/plain": [
       "<KeysViewHDF5 ['H1 pure strain', 'H1 strain', 'H1 times', 'L1 pure strain', 'L1 strain', 'L1 times', 'V1 pure strain', 'V1 strain', 'V1 times']>"
      ]
     },
     "execution_count": 164,
     "metadata": {},
     "output_type": "execute_result"
    }
   ],
   "source": [
    "f1['signals'].keys()\n"
   ]
  },
  {
   "cell_type": "code",
   "execution_count": 165,
   "metadata": {},
   "outputs": [],
   "source": [
    "import h5py\n",
    "\n",
    "strains_d = dict()\n",
    "signals_d = dict()\n",
    "f1 = h5py.File('/fred/oz016/denoising/q/100k_q_snr_10-30_4.hdf', 'r')\n",
    "list(f1.keys())\n",
    "strains = []\n",
    "signals = []\n",
    "for det in ['H1','L1','V1']:\n",
    "    strains_d[det] = f1['signals']['{0} strain'.format(det)][()]\n",
    "    signals_d[det] = f1['signals']['{0} pure strain'.format(det)][()]\n",
    "strains.append(strains_d)\n",
    "signals.append(signals_d)\n",
    "\n",
    "strains = {\n",
    "        'H1':np.concatenate([x['H1'] for x in strains]),\n",
    "        'L1':np.concatenate([x['L1'] for x in strains]),\n",
    "        'V1':np.concatenate([x['V1'] for x in strains])\n",
    "    }\n",
    "\n",
    "signals = {\n",
    "        'H1':np.concatenate([x['H1'] for x in signals]),\n",
    "        'L1':np.concatenate([x['L1'] for x in signals]),\n",
    "        'V1':np.concatenate([x['V1'] for x in signals])\n",
    "    }\n"
   ]
  },
  {
   "cell_type": "code",
   "execution_count": 166,
   "metadata": {},
   "outputs": [],
   "source": [
    "f1.close()\n"
   ]
  },
  {
   "cell_type": "markdown",
   "metadata": {},
   "source": [
    "# Normalize data"
   ]
  },
  {
   "cell_type": "code",
   "execution_count": 167,
   "metadata": {},
   "outputs": [],
   "source": [
    "def normalize_test(a):\n",
    "    new_array = []\n",
    "    for i in range(100000):\n",
    "        dataset = a[i]\n",
    "#        dataset = dataset[1536:2048]\n",
    "        maximum = np.max(dataset)\n",
    "        minimum = np.abs(np.min(dataset))\n",
    "        for j in range(512):\n",
    "            if(dataset[j] > 0):\n",
    "                dataset[j] = dataset[j]/maximum\n",
    "            else:\n",
    "                dataset[j] = dataset[j]/minimum\n",
    "#        dataset = dataset+gauss\n",
    "        new_array.append(dataset)\n",
    "    return new_array\n",
    "\n",
    "l1_test_new = normalize_test(strains['L1'])\n",
    "\n",
    "#h1_pure_new = normalize_new(h1_pure_new)\n",
    "l1_test_pure_new = normalize_test(signals['L1'])\n"
   ]
  },
  {
   "cell_type": "markdown",
   "metadata": {},
   "source": [
    "# Reshape data into sub-sequences"
   ]
  },
  {
   "cell_type": "code",
   "execution_count": 168,
   "metadata": {},
   "outputs": [],
   "source": [
    "from numpy import array\n",
    "# split a univariate sequence into samples\n",
    "def split_sequence(sequence_noisy,sequence_pure,n_steps):\n",
    "    X, y = list(), list()\n",
    "    for i in range(len(sequence_noisy)):\n",
    "        # find the end of this pattern\n",
    "        end_ix = i + n_steps\n",
    "        # check if we are beyond the sequence\n",
    "        if end_ix > len(sequence_noisy)-1:\n",
    "            break\n",
    "        # gather input and output parts of the pattern\n",
    "        seq_x, seq_y = sequence_noisy[i:end_ix], sequence_pure[end_ix]\n",
    "        X.append(seq_x)\n",
    "        y.append(seq_y)\n",
    "    return array(X), array(y)\n",
    "\n",
    "\n",
    "# choose a number of time steps\n",
    "n_steps = 4\n",
    "X_test_noisy = []\n",
    "X_test_pure = []\n",
    "\n",
    "for i in range(100000):\n",
    "    X_noisy = h1_test_new[i]\n",
    "    X_pure = h1_test_pure_new[i]\n",
    "    X_noisy = np.pad(X_noisy, (4, 4), 'constant', constant_values=(0, 0))\n",
    "    X_pure = np.pad(X_pure, (4, 4), 'constant', constant_values=(0, 0))\n",
    "    # split into samples\n",
    "    X, y = split_sequence(X_noisy, X_pure, n_steps)\n",
    "    X_test_noisy.append(X)\n",
    "    X_test_pure.append(y)\n",
    "    \n",
    "X_test_noisy = np.asarray(X_test_noisy)\n",
    "X_test_pure = np.asarray(X_test_pure)\n"
   ]
  },
  {
   "cell_type": "code",
   "execution_count": 169,
   "metadata": {},
   "outputs": [
    {
     "name": "stdout",
     "output_type": "stream",
     "text": [
      "x_test_noisy shape:  (100000, 516, 4)\n",
      "x_test_pure shape:  (100000, 516)\n",
      "x_test_noisy shape: (100000, 516, 4)\n",
      "input_shape: 4\n",
      "x_test_pure shape: (100000, 516, 1)\n",
      "input_shape: 4\n"
     ]
    }
   ],
   "source": [
    "print('x_test_noisy shape: ', X_test_noisy.shape)\n",
    "print('x_test_pure shape: ', X_test_pure.shape)\n",
    "\n",
    "num_time_periods, num_detectors = 4, 1\n",
    "\n",
    "input_shape = (num_time_periods*num_detectors)\n",
    "\n",
    "X_test_noisy = X_test_noisy.reshape(X_test_noisy.shape[0], 516, input_shape)\n",
    "X_test_pure = X_test_pure.reshape(X_test_pure.shape[0], 516, 1)\n",
    "\n",
    "print('x_test_noisy shape:', X_test_noisy.shape)\n",
    "print('input_shape:', input_shape)\n",
    "\n",
    "print('x_test_pure shape:', X_test_pure.shape)\n",
    "print('input_shape:', input_shape)\n",
    "\n",
    "X_test_noisy = X_test_noisy.astype(\"float32\")\n",
    "X_test_pure = X_test_pure.astype(\"float32\")\n"
   ]
  },
  {
   "cell_type": "markdown",
   "metadata": {},
   "source": [
    "# FracTAL Tanimoto loss function"
   ]
  },
  {
   "cell_type": "code",
   "execution_count": 11,
   "metadata": {},
   "outputs": [],
   "source": [
    "#from keras import backend as K\n",
    "def fractal_tanimoto_loss(y_true, y_pred, depth=0, smooth=1e-6):\n",
    "    x = y_true\n",
    "    y = y_pred\n",
    "#    x_norm = K.sum(x)\n",
    "#    y_norm = K.sum(y)\n",
    "#    x = x/x_norm\n",
    "#    y = y/y_norm\n",
    "    depth = depth+1\n",
    "    scale = 1./len(range(depth))\n",
    "    \n",
    "    def inner_prod(y, x):\n",
    "        prod = y*x\n",
    "        prod = tf.math.reduce_sum(prod, axis=1)\n",
    "        \n",
    "        return prod\n",
    "    \n",
    "    def tnmt_base(x, y):\n",
    "\n",
    "        tpl  = inner_prod(y,x)\n",
    "        tpp  = inner_prod(y,y)\n",
    "        tll  = inner_prod(x,x)\n",
    "\n",
    "\n",
    "        num = tpl + smooth\n",
    "        denum = 0.0\n",
    "        result = 0.0\n",
    "        for d in range(depth):\n",
    "            a = 2.**d\n",
    "            b = -(2.*a-1.)\n",
    "\n",
    "            denum = denum + tf.math.reciprocal( a*(tpp+tll) + b *tpl + smooth)\n",
    "#            denum = ( a*(tpp+tll) + b *tpl + smooth)\n",
    "#            result = tf.math.reduce_mean((result + (num/denum)), axis=0)\n",
    "\n",
    "        result =  num * denum * scale\n",
    "#        result = result\n",
    "        return  result*scale\n",
    "    \n",
    "    \n",
    "    l1 = tnmt_base(x,y)\n",
    "#        l2 = self.tnmt_base(1.-preds, 1.-labels)\n",
    "\n",
    "#        result = 0.5*(l1+l2)\n",
    "    result = l1\n",
    "    \n",
    "    return  1. - result\n"
   ]
  },
  {
   "cell_type": "markdown",
   "metadata": {},
   "source": [
    "# Load trained model"
   ]
  },
  {
   "cell_type": "code",
   "execution_count": 12,
   "metadata": {},
   "outputs": [
    {
     "name": "stdout",
     "output_type": "stream",
     "text": [
      "Model: \"sequential\"\n",
      "_________________________________________________________________\n",
      "Layer (type)                 Output Shape              Param #   \n",
      "=================================================================\n",
      "reshape (Reshape)            (None, 516, 4, 1)         0         \n",
      "_________________________________________________________________\n",
      "time_distributed (TimeDistri (None, 516, 4, 32)        64        \n",
      "_________________________________________________________________\n",
      "time_distributed_1 (TimeDist (None, 516, 4, 32)        0         \n",
      "_________________________________________________________________\n",
      "time_distributed_2 (TimeDist (None, 516, 2, 32)        0         \n",
      "_________________________________________________________________\n",
      "time_distributed_3 (TimeDist (None, 516, 2, 16)        528       \n",
      "_________________________________________________________________\n",
      "time_distributed_4 (TimeDist (None, 516, 2, 16)        0         \n",
      "_________________________________________________________________\n",
      "time_distributed_5 (TimeDist (None, 516, 32)           0         \n",
      "_________________________________________________________________\n",
      "bidirectional (Bidirectional (None, 516, 100)          33200     \n",
      "_________________________________________________________________\n",
      "bidirectional_1 (Bidirection (None, 516, 100)          60400     \n",
      "_________________________________________________________________\n",
      "bidirectional_2 (Bidirection (None, 516, 100)          60400     \n",
      "_________________________________________________________________\n",
      "time_distributed_6 (TimeDist (None, 516, 1)            101       \n",
      "=================================================================\n",
      "Total params: 154,693\n",
      "Trainable params: 154,693\n",
      "Non-trainable params: 0\n",
      "_________________________________________________________________\n"
     ]
    }
   ],
   "source": [
    "#from keras.models import load_model\n",
    " \n",
    "# load model\n",
    "model = tf.keras.models.load_model('Models/model_FractalTanimoto_FT_MSE.h5', custom_objects={'fractal_tanimoto_loss': fractal_tanimoto_loss})\n",
    "# summarize model.\n",
    "model.summary()\n"
   ]
  },
  {
   "cell_type": "markdown",
   "metadata": {},
   "source": [
    "# Obtain predictions on test data"
   ]
  },
  {
   "cell_type": "code",
   "execution_count": 170,
   "metadata": {},
   "outputs": [
    {
     "name": "stdout",
     "output_type": "stream",
     "text": [
      "50/50 [==============================] - 16s 316ms/step - loss: 0.0394 - accuracy: 0.0676\n",
      "\n",
      "Accuracy on test data: 0.07\n",
      "\n",
      "Loss on test data: 0.04\n"
     ]
    }
   ],
   "source": [
    "decoded_signals = model.predict(X_test_noisy, batch_size=2000)\n",
    "\n",
    "score = model.evaluate(X_test_noisy, X_test_pure, verbose=1, batch_size=2000)\n",
    "\n",
    "print('\\nAccuracy on test data: %0.2f' % score[1])\n",
    "print('\\nLoss on test data: %0.2f' % score[0])\n"
   ]
  },
  {
   "cell_type": "markdown",
   "metadata": {},
   "source": [
    "# Plot test sample"
   ]
  },
  {
   "cell_type": "code",
   "execution_count": 175,
   "metadata": {},
   "outputs": [
    {
     "data": {
      "text/plain": [
       "[<matplotlib.lines.Line2D at 0x7f5c3f530610>]"
      ]
     },
     "execution_count": 175,
     "metadata": {},
     "output_type": "execute_result"
    },
    {
     "data": {
      "image/png": "[encoded data removed]",
      "text/plain": [
       "<Figure size 432x288 with 1 Axes>"
      ]
     },
     "metadata": {
      "needs_background": "light"
     },
     "output_type": "display_data"
    }
   ],
   "source": [
    "plt.plot(X_test_pure[0])\n",
    "plt.plot(decoded_signals[0])\n"
   ]
  },
  {
   "cell_type": "code",
   "execution_count": null,
   "metadata": {},
   "outputs": [],
   "source": []
  },
  {
   "cell_type": "code",
   "execution_count": null,
   "metadata": {},
   "outputs": [],
   "source": []
  },
  {
   "cell_type": "code",
   "execution_count": null,
   "metadata": {},
   "outputs": [],
   "source": []
  },
  {
   "cell_type": "code",
   "execution_count": null,
   "metadata": {},
   "outputs": [],
   "source": []
  },
  {
   "cell_type": "code",
   "execution_count": null,
   "metadata": {},
   "outputs": [],
   "source": []
  },
  {
   "cell_type": "code",
   "execution_count": null,
   "metadata": {},
   "outputs": [],
   "source": []
  },
  {
   "cell_type": "code",
   "execution_count": null,
   "metadata": {},
   "outputs": [],
   "source": []
  },
  {
   "cell_type": "code",
   "execution_count": null,
   "metadata": {},
   "outputs": [],
   "source": []
  },
  {
   "cell_type": "code",
   "execution_count": null,
   "metadata": {},
   "outputs": [],
   "source": []
  }
 ],
 "metadata": {
  "kernelspec": {
   "display_name": "Python 3",
   "language": "python",
   "name": "python3"
  },
  "language_info": {
   "codemirror_mode": {
    "name": "ipython",
    "version": 3
   },
   "file_extension": ".py",
   "mimetype": "text/x-python",
   "name": "python",
   "nbconvert_exporter": "python",
   "pygments_lexer": "ipython3",
   "version": "3.7.4"
  }
 },
 "nbformat": 4,
 "nbformat_minor": 2
}
