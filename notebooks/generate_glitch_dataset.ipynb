{
 "cells": [
  {
   "cell_type": "code",
   "execution_count": 10,
   "metadata": {},
   "outputs": [
    {
     "name": "stdout",
     "output_type": "stream",
     "text": [
      "Data not available for GPS time 1236756591.805: Cannot find a GWOSC dataset for L1 covering [1236756583, 1236756600)\n",
      "Data not available for GPS time 1387110427.938: Cannot find a GWOSC dataset for L1 covering [1387110419, 1387110436)\n",
      "Data not available for GPS time 1386904789.688: Cannot find a GWOSC dataset for L1 covering [1386904781, 1386904798)\n",
      "Data not available for GPS time 1371562982.906: Cannot find a GWOSC dataset for L1 covering [1371562974, 1371562991)\n",
      "Data not available for GPS time 1380031693.781: Cannot find a GWOSC dataset for L1 covering [1380031685, 1380031702)\n",
      "Data not available for GPS time 1377258108.594: Cannot find a GWOSC dataset for L1 covering [1377258100, 1377258117)\n",
      "Data not available for GPS time 1380407344.031: Cannot find a GWOSC dataset for L1 covering [1380407336, 1380407353)\n",
      "Data not available for GPS time 1382368687.719: Cannot find a GWOSC dataset for L1 covering [1382368679, 1382368696)\n",
      "Data not available for GPS time 1382938096.094: Cannot find a GWOSC dataset for L1 covering [1382938088, 1382938105)\n",
      "Data not available for GPS time 1371398560.219: Cannot find a GWOSC dataset for L1 covering [1371398552, 1371398569)\n",
      "Data not available for GPS time 1380312424.656: Cannot find a GWOSC dataset for L1 covering [1380312416, 1380312433)\n",
      "Data not available for GPS time 1376132474.188: Cannot find a GWOSC dataset for L1 covering [1376132466, 1376132483)\n",
      "Data not available for GPS time 1371038537.844: Cannot find a GWOSC dataset for L1 covering [1371038529, 1371038546)\n",
      "Data not available for GPS time 1370951120.641: Cannot find a GWOSC dataset for L1 covering [1370951112, 1370951129)\n",
      "Data not available for GPS time 1377024753.445: Cannot find a GWOSC dataset for L1 covering [1377024745, 1377024762)\n",
      "Data not available for GPS time 1373570973.406: Cannot find a GWOSC dataset for L1 covering [1373570965, 1373570982)\n",
      "Data not available for GPS time 1373884995.828: Cannot find a GWOSC dataset for L1 covering [1373884987, 1373885004)\n",
      "Data not available for GPS time 1373208941.016: Cannot find a GWOSC dataset for L1 covering [1373208933, 1373208950)\n",
      "Data not available for GPS time 1386804170.469: Cannot find a GWOSC dataset for L1 covering [1386804162, 1386804179)\n",
      "Data not available for GPS time 1379074570.094: Cannot find a GWOSC dataset for L1 covering [1379074562, 1379074579)\n",
      "Data not available for GPS time 1387473709.563: Cannot find a GWOSC dataset for L1 covering [1387473701, 1387473718)\n",
      "Data not available for GPS time 1377255028.656: Cannot find a GWOSC dataset for L1 covering [1377255020, 1377255037)\n",
      "Data not available for GPS time 1386802541.063: Cannot find a GWOSC dataset for L1 covering [1386802533, 1386802550)\n",
      "Data not available for GPS time 1389121428.938: Cannot find a GWOSC dataset for L1 covering [1389121420, 1389121437)\n",
      "Data not available for GPS time 1370905018.313: Cannot find a GWOSC dataset for L1 covering [1370905010, 1370905027)\n",
      "Data not available for GPS time 1369446685.031: Cannot find a GWOSC dataset for L1 covering [1369446677, 1369446694)\n",
      "Data not available for GPS time 1386888008.75: Cannot find a GWOSC dataset for L1 covering [1386888000, 1386888017)\n",
      "Data not available for GPS time 1386878741.094: Cannot find a GWOSC dataset for L1 covering [1386878733, 1386878750)\n",
      "Data not available for GPS time 1371252320.219: Cannot find a GWOSC dataset for L1 covering [1371252312, 1371252329)\n",
      "Data not available for GPS time 1383975937.406: Cannot find a GWOSC dataset for L1 covering [1383975929, 1383975946)\n",
      "Data not available for GPS time 1388323182.063: Cannot find a GWOSC dataset for L1 covering [1388323174, 1388323191)\n",
      "Data not available for GPS time 1370926412.406: Cannot find a GWOSC dataset for L1 covering [1370926404, 1370926421)\n",
      "Data not available for GPS time 1383967865.906: Cannot find a GWOSC dataset for L1 covering [1383967857, 1383967874)\n",
      "Data not available for GPS time 1383997492.719: Cannot find a GWOSC dataset for L1 covering [1383997484, 1383997501)\n",
      "Data not available for GPS time 1387473720.563: Cannot find a GWOSC dataset for L1 covering [1387473712, 1387473729)\n",
      "Data not available for GPS time 1388627931.406: Cannot find a GWOSC dataset for L1 covering [1388627923, 1388627940)\n",
      "Data not available for GPS time 1371200831.891: Cannot find a GWOSC dataset for L1 covering [1371200823, 1371200840)\n",
      "Data not available for GPS time 1371263012.906: Cannot find a GWOSC dataset for L1 covering [1371263004, 1371263021)\n",
      "Data not available for GPS time 1371259938.156: Cannot find a GWOSC dataset for L1 covering [1371259930, 1371259947)\n",
      "Data not available for GPS time 1389389478.938: Cannot find a GWOSC dataset for L1 covering [1389389470, 1389389487)\n",
      "Data not available for GPS time 1388648310.813: Cannot find a GWOSC dataset for L1 covering [1388648302, 1388648319)\n",
      "Data not available for GPS time 1384498634.781: Cannot find a GWOSC dataset for L1 covering [1384498626, 1384498643)\n",
      "Data not available for GPS time 1388665913.938: Cannot find a GWOSC dataset for L1 covering [1388665905, 1388665922)\n",
      "Data not available for GPS time 1388326267.406: Cannot find a GWOSC dataset for L1 covering [1388326259, 1388326276)\n",
      "Data not available for GPS time 1387872641.969: Cannot find a GWOSC dataset for L1 covering [1387872633, 1387872650)\n",
      "Data not available for GPS time 1386805845.438: Cannot find a GWOSC dataset for L1 covering [1386805837, 1386805854)\n",
      "Data not available for GPS time 1389114879.063: Cannot find a GWOSC dataset for L1 covering [1389114871, 1389114888)\n",
      "Data not available for GPS time 1381440282.594: Cannot find a GWOSC dataset for L1 covering [1381440274, 1381440291)\n",
      "Data not available for GPS time 1386814512.188: Cannot find a GWOSC dataset for L1 covering [1386814504, 1386814521)\n",
      "Data not available for GPS time 1380292779.406: Cannot find a GWOSC dataset for L1 covering [1380292771, 1380292788)\n",
      "Data not available for GPS time 1386688540.438: Cannot find a GWOSC dataset for L1 covering [1386688532, 1386688549)\n",
      "Data not available for GPS time 1371295004.188: Cannot find a GWOSC dataset for L1 covering [1371294996, 1371295013)\n",
      "Data not available for GPS time 1388995372.063: Cannot find a GWOSC dataset for L1 covering [1388995364, 1388995381)\n",
      "Data not available for GPS time 1371261610.156: Cannot find a GWOSC dataset for L1 covering [1371261602, 1371261619)\n",
      "Data not available for GPS time 1371391400.891: Cannot find a GWOSC dataset for L1 covering [1371391392, 1371391409)\n",
      "Data not available for GPS time 1388691412.938: Cannot find a GWOSC dataset for L1 covering [1388691404, 1388691421)\n",
      "Data not available for GPS time 1368718035.563: Cannot find a GWOSC dataset for L1 covering [1368718027, 1368718044)\n",
      "Data not available for GPS time 1387479809.594: Cannot find a GWOSC dataset for L1 covering [1387479801, 1387479818)\n",
      "Combined strain and SNR data written to Glitch_data/combined_strains_snr_low_freq_burst_whitened_1.hdf5\n"
     ]
    }
   ],
   "source": [
    "import gwpy\n",
    "from gwpy.timeseries import TimeSeries\n",
    "import pandas as pd\n",
    "import h5py\n",
    "import numpy as np\n",
    "import os\n",
    "from astropy.utils.data import clear_download_cache\n",
    "import pycbc\n",
    "#from pycbc.types.timeseries import TimeSeries\n",
    "from pycbc.psd import interpolate\n",
    "\n",
    "# Define a function to download data and return as an array\n",
    "def download_gw_data(gps_time):\n",
    "    try:\n",
    "        start_time = gps_time - 8  # 0.5 seconds before the event\n",
    "        end_time = gps_time + 8    # 0.5 seconds after the event\n",
    "        data = TimeSeries.fetch_open_data('L1', start_time, end_time, cache=True)\n",
    "        return data\n",
    "    except ValueError as e:\n",
    "        print(f\"Data not available for GPS time {gps_time}: {e}\")\n",
    "\n",
    "        # Clear the Astropy download cache\n",
    "        clear_download_cache()\n",
    "        \n",
    "        return None\n",
    "\n",
    "# Read the GPS times and SNR from the CSV file (first 100 entries)\n",
    "file_path = 'Glitch_data/gspy_low_freq_burst.csv'  # Replace with your file path\n",
    "glitches = pd.read_csv(file_path).head(100)\n",
    "\n",
    "# Lists to store strain data arrays and SNRs\n",
    "strains = []\n",
    "snrs = []\n",
    "\n",
    "# Loop through the first 100 GPS times and download data\n",
    "for index, row in glitches.iterrows():\n",
    "    gps_time = row['GPStime']  # Replace 'GPStime' if your column name is different\n",
    "    snr = row['snr']          # Replace 'snr' if your column name is different\n",
    "    strain_data = download_gw_data(gps_time)\n",
    "    if strain_data is not None:\n",
    "        # Downsampling by taking every second data point\n",
    "#        downsampled_strain = strain_data[::2]\n",
    "        \n",
    "        # Whiten data\n",
    "#        downsampled_strain = downsampled_strain.whiten(4,2)\n",
    "\n",
    "        # Crop data to 1 sec\n",
    "#        downsampled_strain = downsampled_strain.crop(gps_time - 0.8, gps_time + 0.2)\n",
    "\n",
    "\n",
    "        data = pycbc.types.timeseries.TimeSeries(strain_data.value[::2], delta_t=1.0 / 2048, epoch=strain_data.times[0].value)\n",
    "\n",
    "        data, psd_pycbc = data.whiten(segment_duration=4,\n",
    "                                   max_filter_duration=4,\n",
    "                                   remove_corrupted=True, return_psd=True)\n",
    "\n",
    "        # Apply a high-pass to remove everything below `bandpass_lower`\n",
    "        data  = data.highpass_fir(frequency=30,remove_corrupted=True,\n",
    "                                             order=512)\n",
    "\n",
    "        data = data.time_slice(gps_time - 0.80, gps_time + 0.20)\n",
    "\n",
    "#        strains.append(downsampled_strain.value)\n",
    "#        snrs.append(snr)\n",
    "        \n",
    "        data_array = data.numpy()\n",
    "        # Check if data_array does not contain any NaNs\n",
    "        if not np.isnan(data_array).any():\n",
    "            strains.append(data_array)\n",
    "            snrs.append(snr)\n",
    "        \n",
    "        #strains.append(data.numpy())\n",
    "        #snrs.append(snr)\n",
    "max_length = max(len(arr) for arr in strains)  # Find the length of the longest array\n",
    "padded_arrays = [np.pad(arr, (0, max_length - len(arr)), 'constant', constant_values=0) for arr in strains]\n",
    "\n",
    "combined_strains = np.array(padded_arrays)\n",
    "\n",
    "\n",
    "# Combine all strain data into a single array\n",
    "#combined_strains = np.array(strains)\n",
    "combined_snrs = np.array(snrs)\n",
    "\n",
    "# Folder to save the combined HDF5 file\n",
    "output_folder = 'Glitch_data'\n",
    "\n",
    "# Check if folder exists, if not create it\n",
    "if not os.path.exists(output_folder):\n",
    "    os.makedirs(output_folder)\n",
    "\n",
    "# Save the combined strains and SNRs to an HDF5 file in the 'Blip' folder\n",
    "output_file_path = os.path.join(output_folder, 'combined_strains_snr_low_freq_burst_whitened_1.hdf5')\n",
    "with h5py.File(output_file_path, 'w') as f:\n",
    "    f.create_dataset('Strain', data=combined_strains)\n",
    "    f.create_dataset('SNR', data=combined_snrs)\n",
    "\n",
    "print(f\"Combined strain and SNR data written to {output_file_path}\")\n",
    "f.close()\n"
   ]
  },
  {
   "cell_type": "code",
   "execution_count": null,
   "metadata": {},
   "outputs": [],
   "source": []
  },
  {
   "cell_type": "code",
   "execution_count": 18,
   "metadata": {},
   "outputs": [],
   "source": [
    "f.close()"
   ]
  },
  {
   "cell_type": "code",
   "execution_count": 2,
   "metadata": {},
   "outputs": [
    {
     "name": "stdout",
     "output_type": "stream",
     "text": [
      "Astropy cache has been cleared.\n"
     ]
    }
   ],
   "source": [
    "from astropy.utils.data import clear_download_cache\n",
    "\n",
    "# Clear the Astropy download cache\n",
    "clear_download_cache()\n",
    "\n",
    "print(\"Astropy cache has been cleared.\")\n"
   ]
  },
  {
   "cell_type": "code",
   "execution_count": 4,
   "metadata": {},
   "outputs": [
    {
     "data": {
      "text/plain": [
       "(78, 2049)"
      ]
     },
     "execution_count": 4,
     "metadata": {},
     "output_type": "execute_result"
    }
   ],
   "source": [
    "import h5py\n",
    "\n",
    "f1 = h5py.File('Glitch_data/combined_strains_snr_whistle_whitened_1.hdf5', 'r')\n",
    "\n",
    "f1['Strain'][()].shape"
   ]
  },
  {
   "cell_type": "code",
   "execution_count": 4,
   "metadata": {},
   "outputs": [
    {
     "data": {
      "text/plain": [
       "[<matplotlib.lines.Line2D at 0x7f4d8e35d670>]"
      ]
     },
     "execution_count": 4,
     "metadata": {},
     "output_type": "execute_result"
    },
    {
     "data": {
      "image/png": "[encoded data removed]",
      "text/plain": [
       "<Figure size 432x288 with 1 Axes>"
      ]
     },
     "metadata": {
      "needs_background": "light"
     },
     "output_type": "display_data"
    }
   ],
   "source": [
    "from matplotlib import pyplot as plt\n",
    "\n",
    "plt.plot(f1['Strain'][0])"
   ]
  },
  {
   "cell_type": "code",
   "execution_count": 20,
   "metadata": {},
   "outputs": [],
   "source": [
    "# Read the GPS times and SNR from the CSV file (first 50 entries)\n",
    "file_path = 'gspy_blip.csv'  # Replace with your file path\n",
    "glitches = pd.read_csv(file_path).head(200)\n",
    "\n",
    "# Lists to store strain data arrays and SNRs\n",
    "strains = []\n",
    "snrs = []\n",
    "gps_times = []\n",
    "\n",
    "# Loop through the first 50 GPS times and download data\n",
    "for index, row in glitches.iterrows():\n",
    "    gps_times.append(row['GPStime'])  # Replace 'GPStime' if your column name is different\n",
    "    snr = row['snr']          # Replace 'snr' if your column name is different\n"
   ]
  },
  {
   "cell_type": "code",
   "execution_count": null,
   "metadata": {},
   "outputs": [],
   "source": []
  },
  {
   "cell_type": "code",
   "execution_count": null,
   "metadata": {},
   "outputs": [],
   "source": []
  }
 ],
 "metadata": {
  "kernelspec": {
   "display_name": "tensorflow2.7",
   "language": "python",
   "name": "python3"
  },
  "language_info": {
   "codemirror_mode": {
    "name": "ipython",
    "version": 3
   },
   "file_extension": ".py",
   "mimetype": "text/x-python",
   "name": "python",
   "nbconvert_exporter": "python",
   "pygments_lexer": "ipython3",
   "version": "3.9.6"
  }
 },
 "nbformat": 4,
 "nbformat_minor": 2
}
