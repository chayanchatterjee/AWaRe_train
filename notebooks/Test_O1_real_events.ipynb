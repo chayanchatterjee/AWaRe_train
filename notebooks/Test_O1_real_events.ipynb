{
 "cells": [
  {
   "cell_type": "code",
   "execution_count": 3,
   "metadata": {},
   "outputs": [],
   "source": [
    "from __future__ import print_function\n",
    "from matplotlib import pyplot as plt\n",
    "plt.switch_backend('agg')\n",
    "%matplotlib inline\n",
    "import numpy as np\n",
    "#import pandas as pd\n",
    "\n",
    "from IPython.display import display, HTML\n",
    "import tensorflow as tf\n",
    "#import numpy as np\n",
    "#import pandas as pd\n",
    "#import random as ran\n",
    "import h5py\n",
    "\n",
    "import pandas as pd\n"
   ]
  },
  {
   "cell_type": "code",
   "execution_count": 10,
   "metadata": {},
   "outputs": [],
   "source": [
    "def _preprocess_data(data, num, samples):\n",
    "    new_array = []\n",
    "    for i in range(num):\n",
    "        dataset = data[i]\n",
    "        if((dataset.max() != 0.0) and (dataset.min() != 0.0)):\n",
    "            maximum = np.max(dataset)\n",
    "            minimum = np.abs(np.min(dataset))\n",
    "            for j in range(samples):\n",
    "                if(dataset[j] > 0):\n",
    "                    dataset[j] = dataset[j]/maximum\n",
    "                else:\n",
    "                    dataset[j] = dataset[j]/minimum\n",
    "        new_array.append(dataset)\n",
    "    return new_array, maximum, minimum\n"
   ]
  },
  {
   "cell_type": "code",
   "execution_count": 121,
   "metadata": {},
   "outputs": [],
   "source": [
    "# Split a univariate sequence into samples\n",
    "#def split_sequence(sequence_noisy,sequence_pure,n_steps):\n",
    "def split_sequence(sequence_noisy,n_steps):\n",
    "    X = [] \n",
    "#    y = []\n",
    "    for i in range(len(sequence_noisy)):\n",
    "    # find the end of this pattern\n",
    "        end_ix = i + n_steps\n",
    "        # check if we are beyond the sequence\n",
    "        if end_ix > len(sequence_noisy)-1:\n",
    "            break\n",
    "        # gather input and output parts of the pattern\n",
    "        seq_x = sequence_noisy[i:end_ix] \n",
    "#        seq_y = sequence_pure[end_ix]\n",
    "        X.append(seq_x)\n",
    "#        y.append(seq_y)\n",
    "#    return array(X), array(y)\n",
    "    return np.array(X)\n",
    "    \n",
    "    \n",
    "#def reshape_sequences(self, num, data_noisy, data_pure):\n",
    "def reshape_sequences(num, data_noisy):\n",
    "    n_steps = 25\n",
    "    arr_noisy = []\n",
    "#    arr_pure = []\n",
    "        \n",
    "    for i in range(num):\n",
    "        X_noisy = data_noisy[i]\n",
    "#        X_pure = data_pure[i]\n",
    "        X_noisy = np.pad(X_noisy, (n_steps, n_steps), 'constant', constant_values=(0, 0))\n",
    "#        X_pure = np.pad(X_pure, (n_steps, n_steps), 'constant', constant_values=(0, 0))\n",
    "        # split into samples\n",
    "#        X, y = self.split_sequence(X_noisy, X_pure, n_steps)\n",
    "        X = split_sequence(X_noisy, n_steps)\n",
    "        arr_noisy.append(X)\n",
    "#        arr_pure.append(y)\n",
    "    \n",
    "    arr_noisy = np.asarray(arr_noisy)\n",
    "#    arr_pure = np.asarray(arr_pure)\n",
    "        \n",
    "#    return arr_noisy, arr_pure\n",
    "    return arr_noisy\n"
   ]
  },
  {
   "cell_type": "code",
   "execution_count": 18,
   "metadata": {},
   "outputs": [],
   "source": [
    "class FractalTanimotoLoss(tf.keras.losses.Loss):\n",
    "        def __init__(lr, base_lr=2e-3, depth=0, smooth=1e-6, **kwargs):\n",
    "            depth = depth\n",
    "            learning_rate = lr\n",
    "            base_lr = base_lr\n",
    "            smooth = smooth\n",
    "            super().__init__(**kwargs)\n",
    "    \n",
    "        def inner_prod(self, y, x):\n",
    "            prod = y*x\n",
    "            prod = K.sum(prod, axis=1)\n",
    "        \n",
    "            return prod\n",
    "    \n",
    "        def tnmt_base(x, y, scale):\n",
    "\n",
    "            tpl  = inner_prod(y,x)\n",
    "            tpp  = inner_prod(y,y)\n",
    "            tll  = inner_prod(x,x)\n",
    "\n",
    "\n",
    "            num = tpl + self.smooth\n",
    "            denum = 0.0\n",
    "            result = 0.0\n",
    "            for d in range(depth):\n",
    "                a = 2.**d\n",
    "                b = -(2.*a-1.)\n",
    "\n",
    "                denum = denum + tf.math.reciprocal( a*(tpp+tll) + b *tpl + smooth)\n",
    "                \n",
    "            result =  num * denum * scale\n",
    "            \n",
    "            return  result*scale\n",
    "        \n",
    "        def call(y_true, y_pred):\n",
    "            \n",
    "            if(learning_rate < base_lr):\n",
    "                depth = depth + 5\n",
    "                \n",
    "            depth = depth+1\n",
    "            scale = 1./len(range(depth))\n",
    "            \n",
    "            l1 = K.mean(K.square(y_pred - y_true),axis=-1)\n",
    "            result = tnmt_base(y_true, y_pred, scale)\n",
    "        \n",
    "            return  l1 - 0.01*result\n",
    "        \n",
    "        def get_config(self):\n",
    "            base_config = super().get_config()\n",
    "            return {**base_config, \"depth\": depth}   \n",
    "    "
   ]
  },
  {
   "cell_type": "markdown",
   "metadata": {},
   "source": [
    "# GW150914"
   ]
  },
  {
   "cell_type": "code",
   "execution_count": 4,
   "metadata": {},
   "outputs": [],
   "source": [
    "input_data=pd.read_csv(\"/fred/oz016/Chayan/samplegen_old/output/GW150914_rec_signal_time_L1.dat\",header=0,delimiter=\" \")\n"
   ]
  },
  {
   "cell_type": "code",
   "execution_count": 5,
   "metadata": {},
   "outputs": [
    {
     "data": {
      "text/plain": [
       "array([17183, 17184, 17185, 17186])"
      ]
     },
     "execution_count": 5,
     "metadata": {},
     "output_type": "execute_result"
    }
   ],
   "source": [
    "np.where((input_data['#time,'].values > 1126259462.390) & (input_data['#time,'].values < 1126259462.392))[0]\n"
   ]
  },
  {
   "cell_type": "code",
   "execution_count": 6,
   "metadata": {},
   "outputs": [
    {
     "data": {
      "text/plain": [
       "15544.6"
      ]
     },
     "execution_count": 6,
     "metadata": {},
     "output_type": "execute_result"
    }
   ],
   "source": [
    "# Lower\n",
    "\n",
    "17183 -(2048*0.8)"
   ]
  },
  {
   "cell_type": "code",
   "execution_count": 7,
   "metadata": {},
   "outputs": [
    {
     "data": {
      "text/plain": [
       "17592.6"
      ]
     },
     "execution_count": 7,
     "metadata": {},
     "output_type": "execute_result"
    }
   ],
   "source": [
    "# Upper\n",
    "\n",
    "17183 + (2048*0.2)"
   ]
  },
  {
   "cell_type": "code",
   "execution_count": 14,
   "metadata": {},
   "outputs": [],
   "source": [
    "f1 = h5py.File('/fred/oz016/Chayan/samplegen_old/output/real_events_GW150914.hdf', 'r')\n",
    "strain = f1['GW150914-v3']['l1_strain'][()]\n"
   ]
  },
  {
   "cell_type": "code",
   "execution_count": 15,
   "metadata": {},
   "outputs": [],
   "source": [
    "strain = strain[None,:]\n",
    "\n",
    "strain, maximum, minimum = _preprocess_data(strain, 1, 2048)\n",
    "\n",
    "strain = np.array(strain)\n"
   ]
  },
  {
   "cell_type": "code",
   "execution_count": 19,
   "metadata": {},
   "outputs": [
    {
     "name": "stdout",
     "output_type": "stream",
     "text": [
      "x_test_noisy shape: (1, 2073, 25, 1)\n"
     ]
    }
   ],
   "source": [
    "X_test_noisy = reshape_sequences(1, strain)\n",
    "\n",
    "# Reshape arrays to fit into Keras model\n",
    "X_test_noisy = X_test_noisy[:,:,:,None]\n",
    "        \n",
    "print('x_test_noisy shape:', X_test_noisy.shape)\n",
    "\n",
    "X_test_noisy = X_test_noisy.astype(\"float32\")\n"
   ]
  },
  {
   "cell_type": "code",
   "execution_count": 20,
   "metadata": {},
   "outputs": [
    {
     "name": "stdout",
     "output_type": "stream",
     "text": [
      "Model: \"sequential\"\n",
      "_________________________________________________________________\n",
      " Layer (type)                Output Shape              Param #   \n",
      "=================================================================\n",
      " time_distributed (TimeDistr  (None, 2073, 25, 128)    512       \n",
      " ibuted)                                                         \n",
      "                                                                 \n",
      " time_distributed_1 (TimeDis  (None, 2073, 25, 128)    49280     \n",
      " tributed)                                                       \n",
      "                                                                 \n",
      " time_distributed_2 (TimeDis  (None, 2073, 25, 128)    49280     \n",
      " tributed)                                                       \n",
      "                                                                 \n",
      " time_distributed_3 (TimeDis  (None, 2073, 25, 128)    49280     \n",
      " tributed)                                                       \n",
      "                                                                 \n",
      " batch_normalization (BatchN  (None, 2073, 25, 128)    512       \n",
      " ormalization)                                                   \n",
      "                                                                 \n",
      " time_distributed_4 (TimeDis  (None, 2073, 25, 64)     24640     \n",
      " tributed)                                                       \n",
      "                                                                 \n",
      " time_distributed_5 (TimeDis  (None, 2073, 13, 64)     0         \n",
      " tributed)                                                       \n",
      "                                                                 \n",
      " time_distributed_6 (TimeDis  (None, 2073, 13, 32)     6176      \n",
      " tributed)                                                       \n",
      "                                                                 \n",
      " time_distributed_7 (TimeDis  (None, 2073, 7, 32)      0         \n",
      " tributed)                                                       \n",
      "                                                                 \n",
      " time_distributed_8 (TimeDis  (None, 2073, 7, 16)      1552      \n",
      " tributed)                                                       \n",
      "                                                                 \n",
      " time_distributed_9 (TimeDis  (None, 2073, 4, 16)      0         \n",
      " tributed)                                                       \n",
      "                                                                 \n",
      " time_distributed_10 (TimeDi  (None, 2073, 64)         0         \n",
      " stributed)                                                      \n",
      "                                                                 \n",
      " bidirectional (Bidirectiona  (None, 2073, 128)        66048     \n",
      " l)                                                              \n",
      "                                                                 \n",
      " bidirectional_1 (Bidirectio  (None, 2073, 128)        98816     \n",
      " nal)                                                            \n",
      "                                                                 \n",
      " bidirectional_2 (Bidirectio  (None, 2073, 128)        98816     \n",
      " nal)                                                            \n",
      "                                                                 \n",
      " bidirectional_3 (Bidirectio  (None, 2073, 128)        98816     \n",
      " nal)                                                            \n",
      "                                                                 \n",
      " time_distributed_11 (TimeDi  (None, 2073, 1)          129       \n",
      " stributed)                                                      \n",
      "                                                                 \n",
      "=================================================================\n",
      "Total params: 543,857\n",
      "Trainable params: 543,601\n",
      "Non-trainable params: 256\n",
      "_________________________________________________________________\n"
     ]
    }
   ],
   "source": [
    "#from keras.models import load_model\n",
    " \n",
    "# load model\n",
    "model = tf.keras.models.load_model('/fred/oz016/Chayan/GW-Denoiser/model/model_IMRPhenomXPHM_O3b_noise_dilated_CNN_25_timesteps.h5', custom_objects={'FractalTanimotoLoss': FractalTanimotoLoss})\n",
    "# summarize model.\n",
    "model.summary()\n"
   ]
  },
  {
   "cell_type": "code",
   "execution_count": 21,
   "metadata": {},
   "outputs": [],
   "source": [
    "decoded_signals = model.predict(X_test_noisy, batch_size=1)\n"
   ]
  },
  {
   "cell_type": "code",
   "execution_count": 22,
   "metadata": {},
   "outputs": [
    {
     "data": {
      "text/plain": [
       "[<matplotlib.lines.Line2D at 0x7fbfe94e2400>]"
      ]
     },
     "execution_count": 22,
     "metadata": {},
     "output_type": "execute_result"
    },
    {
     "data": {
      "image/png": "[encoded data removed]",
      "text/plain": [
       "<Figure size 432x288 with 1 Axes>"
      ]
     },
     "metadata": {
      "needs_background": "light"
     },
     "output_type": "display_data"
    }
   ],
   "source": [
    "plt.plot(decoded_signals[0])\n",
    "\n",
    "cwb_reconst = input_data['amp_cwb_point_est,'].values[15545:17593][None,:]\n",
    "cwb_reconst, maximum, minimum = _preprocess_data(cwb_reconst,1,2048)\n",
    "\n",
    "plt.plot(cwb_reconst[0])\n"
   ]
  },
  {
   "cell_type": "code",
   "execution_count": 23,
   "metadata": {},
   "outputs": [],
   "source": [
    "new_lower = []\n",
    "for value in input_data['amp_pe_post_lower_90_perc,'].values[15545:17593]:\n",
    "    if value > 0.0:\n",
    "        value = value/maximum\n",
    "    elif value < 0.0:\n",
    "        value = value/minimum\n",
    "    new_lower.append(value)\n",
    "        \n",
    "new_upper = []\n",
    "for value in input_data['amp_pe_post_upper_90_perc'].values[15545:17593]:\n",
    "    if value > 0.0:\n",
    "        value = value/maximum\n",
    "    elif value < 0.0:\n",
    "        value = value/minimum\n",
    "    new_upper.append(value)\n",
    "    "
   ]
  },
  {
   "cell_type": "code",
   "execution_count": 25,
   "metadata": {},
   "outputs": [],
   "source": [
    "from pycbc.types.timeseries import TimeSeries\n",
    "import matplotlib.pyplot as plt\n",
    "\n",
    "def plot_reconstructed(decoded_signals, pure_signals, upper_90, lower_90):\n",
    "    \n",
    "    length_signal = len(decoded_signals)\n",
    "\n",
    "    fig = plt.figure(figsize=(10,5))\n",
    "\n",
    "    time = np.linspace(-0.80, 0.20, length_signal)\n",
    "\n",
    "    plt.subplots_adjust(left=0.1,\n",
    "                    bottom=0.1, \n",
    "                    right=0.9, \n",
    "                    top=0.9, \n",
    "                    wspace=0.4, \n",
    "                    hspace=0.4)\n",
    "\n",
    "    signal_axes = fig.add_subplot(211)\n",
    "    signal_axes.plot(time,pure_signals, linewidth=1.2, label ='cWB maximum likelihood L1 signal')\n",
    "    signal_axes.plot(time,decoded_signals, linewidth=1.2, label ='ML reconstructed L1 signal', c='red', linestyle='dashed')\n",
    "    signal_axes.fill_between(time,lower_90,upper_90, color='lightgrey', label='cWB-LALInference 90% C.I.')\n",
    "    signal_axes.set_ylabel('Rescaled Amplitudes')\n",
    "    signal_axes.legend()\n",
    "    \n",
    "    plt.savefig('IMBH_test/O1_real_events/GW150914_reconstruction_CI_dilated_CNN_25_timesteps.png', bbox_inches='tight', facecolor='w', transparent=False, dpi=200)\n"
   ]
  },
  {
   "cell_type": "code",
   "execution_count": 26,
   "metadata": {},
   "outputs": [
    {
     "data": {
      "image/png": "[encoded data removed]",
      "text/plain": [
       "<Figure size 720x360 with 1 Axes>"
      ]
     },
     "metadata": {
      "needs_background": "light"
     },
     "output_type": "display_data"
    }
   ],
   "source": [
    "plot_reconstructed(decoded_signals[0][0:2048], np.squeeze(cwb_reconst), new_upper, new_lower)\n"
   ]
  },
  {
   "cell_type": "markdown",
   "metadata": {},
   "source": [
    "# GW151226 - L1"
   ]
  },
  {
   "cell_type": "code",
   "execution_count": 62,
   "metadata": {},
   "outputs": [],
   "source": [
    "input_data=pd.read_csv(\"/fred/oz016/Chayan/samplegen_old/output/GW151226_rec_signal_time_L1.dat\",header=0,delimiter=\" \")\n"
   ]
  },
  {
   "cell_type": "code",
   "execution_count": 63,
   "metadata": {},
   "outputs": [
    {
     "data": {
      "text/plain": [
       "array([15662, 15663])"
      ]
     },
     "execution_count": 63,
     "metadata": {},
     "output_type": "execute_result"
    }
   ],
   "source": [
    "np.where((input_data['#time,'].values > 1135136350.647) & (input_data['#time,'].values < 1135136350.648))[0]\n"
   ]
  },
  {
   "cell_type": "code",
   "execution_count": 64,
   "metadata": {},
   "outputs": [
    {
     "data": {
      "text/plain": [
       "14023.6"
      ]
     },
     "execution_count": 64,
     "metadata": {},
     "output_type": "execute_result"
    }
   ],
   "source": [
    "# Lower\n",
    "\n",
    "15662 -(2048*0.8)"
   ]
  },
  {
   "cell_type": "code",
   "execution_count": 65,
   "metadata": {},
   "outputs": [
    {
     "data": {
      "text/plain": [
       "16071.6"
      ]
     },
     "execution_count": 65,
     "metadata": {},
     "output_type": "execute_result"
    }
   ],
   "source": [
    "# Upper\n",
    "\n",
    "15662 + (2048*0.2)"
   ]
  },
  {
   "cell_type": "code",
   "execution_count": 66,
   "metadata": {},
   "outputs": [],
   "source": [
    "f1 = h5py.File('/fred/oz016/Chayan/samplegen_old/output/real_events_GW151226.hdf', 'r')\n",
    "strain = f1['GW151226']['l1_strain'][()]\n"
   ]
  },
  {
   "cell_type": "code",
   "execution_count": 67,
   "metadata": {},
   "outputs": [],
   "source": [
    "strain = strain[None,:]\n",
    "\n",
    "strain, maximum, minimum = _preprocess_data(strain, 1, 2048)\n",
    "\n",
    "strain = np.array(strain)\n"
   ]
  },
  {
   "cell_type": "code",
   "execution_count": 68,
   "metadata": {},
   "outputs": [
    {
     "name": "stdout",
     "output_type": "stream",
     "text": [
      "x_test_noisy shape: (1, 2058, 10, 1)\n"
     ]
    }
   ],
   "source": [
    "X_test_noisy = reshape_sequences(1, strain)\n",
    "\n",
    "# Reshape arrays to fit into Keras model\n",
    "X_test_noisy = X_test_noisy[:,:,:,None]\n",
    "        \n",
    "print('x_test_noisy shape:', X_test_noisy.shape)\n",
    "\n",
    "X_test_noisy = X_test_noisy.astype(\"float32\")\n"
   ]
  },
  {
   "cell_type": "code",
   "execution_count": 69,
   "metadata": {},
   "outputs": [
    {
     "name": "stdout",
     "output_type": "stream",
     "text": [
      "Model: \"sequential\"\n",
      "_________________________________________________________________\n",
      " Layer (type)                Output Shape              Param #   \n",
      "=================================================================\n",
      " time_distributed (TimeDistr  (None, 2058, 10, 32)     128       \n",
      " ibuted)                                                         \n",
      "                                                                 \n",
      " time_distributed_1 (TimeDis  (None, 2058, 10, 32)     0         \n",
      " tributed)                                                       \n",
      "                                                                 \n",
      " time_distributed_2 (TimeDis  (None, 2058, 5, 32)      0         \n",
      " tributed)                                                       \n",
      "                                                                 \n",
      " time_distributed_3 (TimeDis  (None, 2058, 5, 16)      1552      \n",
      " tributed)                                                       \n",
      "                                                                 \n",
      " time_distributed_4 (TimeDis  (None, 2058, 5, 16)      0         \n",
      " tributed)                                                       \n",
      "                                                                 \n",
      " time_distributed_5 (TimeDis  (None, 2058, 80)         0         \n",
      " tributed)                                                       \n",
      "                                                                 \n",
      " bidirectional (Bidirectiona  (None, 2058, 64)         28928     \n",
      " l)                                                              \n",
      "                                                                 \n",
      " bidirectional_1 (Bidirectio  (None, 2058, 64)         24832     \n",
      " nal)                                                            \n",
      "                                                                 \n",
      " bidirectional_2 (Bidirectio  (None, 2058, 64)         24832     \n",
      " nal)                                                            \n",
      "                                                                 \n",
      " time_distributed_6 (TimeDis  (None, 2058, 1)          65        \n",
      " tributed)                                                       \n",
      "                                                                 \n",
      "=================================================================\n",
      "Total params: 80,337\n",
      "Trainable params: 80,337\n",
      "Non-trainable params: 0\n",
      "_________________________________________________________________\n"
     ]
    }
   ],
   "source": [
    "#from keras.models import load_model\n",
    " \n",
    "# load model\n",
    "model = tf.keras.models.load_model('/fred/oz016/Chayan/GW-Denoiser/model/trained_model_test_IMBH_HM_O3b_noise_mass_corrected.h5', custom_objects={'FractalTanimotoLoss': FractalTanimotoLoss})\n",
    "# summarize model.\n",
    "model.summary()\n"
   ]
  },
  {
   "cell_type": "code",
   "execution_count": 70,
   "metadata": {},
   "outputs": [],
   "source": [
    "decoded_signals = model.predict(X_test_noisy, batch_size=1)\n"
   ]
  },
  {
   "cell_type": "code",
   "execution_count": 71,
   "metadata": {},
   "outputs": [
    {
     "data": {
      "text/plain": [
       "[<matplotlib.lines.Line2D at 0x7fbfd1fa85e0>]"
      ]
     },
     "execution_count": 71,
     "metadata": {},
     "output_type": "execute_result"
    },
    {
     "data": {
      "image/png": "[encoded data removed]",
      "text/plain": [
       "<Figure size 432x288 with 1 Axes>"
      ]
     },
     "metadata": {
      "needs_background": "light"
     },
     "output_type": "display_data"
    }
   ],
   "source": [
    "cwb_reconst = input_data['amp_cwb_point_est,'].values[14024:16072][None,:]\n",
    "cwb_reconst, maximum, minimum = _preprocess_data(cwb_reconst,1,2048)\n",
    "\n",
    "plt.plot(cwb_reconst[0])\n",
    "\n",
    "plt.plot(decoded_signals[0])\n"
   ]
  },
  {
   "cell_type": "code",
   "execution_count": 74,
   "metadata": {},
   "outputs": [],
   "source": [
    "new_lower = []\n",
    "for value in input_data['amp_pe_post_lower_90_perc,'].values[14024:16072]:\n",
    "    if value > 0.0:\n",
    "        value = value/maximum\n",
    "    elif value < 0.0:\n",
    "        value = value/minimum\n",
    "    new_lower.append(value)\n",
    "        \n",
    "new_upper = []\n",
    "for value in input_data['amp_pe_post_upper_90_perc'].values[14024:16072]:\n",
    "    if value > 0.0:\n",
    "        value = value/maximum\n",
    "    elif value < 0.0:\n",
    "        value = value/minimum\n",
    "    new_upper.append(value)\n",
    "    "
   ]
  },
  {
   "cell_type": "code",
   "execution_count": 75,
   "metadata": {},
   "outputs": [],
   "source": [
    "from pycbc.types.timeseries import TimeSeries\n",
    "import matplotlib.pyplot as plt\n",
    "\n",
    "def plot_reconstructed(decoded_signals, pure_signals, upper_90, lower_90):\n",
    "    \n",
    "    length_signal = len(decoded_signals)\n",
    "\n",
    "    fig = plt.figure(figsize=(10,5))\n",
    "\n",
    "    time = np.linspace(-0.80, 0.20, length_signal)\n",
    "\n",
    "    plt.subplots_adjust(left=0.1,\n",
    "                    bottom=0.1, \n",
    "                    right=0.9, \n",
    "                    top=0.9, \n",
    "                    wspace=0.4, \n",
    "                    hspace=0.4)\n",
    "\n",
    "    signal_axes = fig.add_subplot(211)\n",
    "    signal_axes.plot(time,pure_signals, linewidth=1.2, label ='cWB maximum likelihood L1 signal')\n",
    "    signal_axes.plot(time,decoded_signals, linewidth=1.2, label ='ML reconstructed L1 signal', c='red', linestyle='dashed')\n",
    "    signal_axes.fill_between(time,lower_90,upper_90, color='lightgrey', label='cWB-LALInference 90% C.I.')\n",
    "    signal_axes.set_ylabel('Rescaled Amplitudes')\n",
    "    signal_axes.legend()\n",
    "    \n",
    "    plt.savefig('IMBH_test/O1_real_events/GW151226_reconstruction_CI_dilated_CNN_10_timesteps.png', bbox_inches='tight', facecolor='w', transparent=False, dpi=200)\n"
   ]
  },
  {
   "cell_type": "code",
   "execution_count": 76,
   "metadata": {},
   "outputs": [
    {
     "data": {
      "image/png": "[encoded data removed]",
      "text/plain": [
       "<Figure size 720x360 with 1 Axes>"
      ]
     },
     "metadata": {
      "needs_background": "light"
     },
     "output_type": "display_data"
    }
   ],
   "source": [
    "plot_reconstructed(decoded_signals[0][0:2048], np.squeeze(cwb_reconst), new_upper, new_lower)\n"
   ]
  },
  {
   "cell_type": "markdown",
   "metadata": {},
   "source": [
    "# GW151226 - H1"
   ]
  },
  {
   "cell_type": "code",
   "execution_count": 122,
   "metadata": {},
   "outputs": [],
   "source": [
    "input_data=pd.read_csv(\"/fred/oz016/Chayan/samplegen_old/output/GW151226_rec_signal_time_H1.dat\",header=0,delimiter=\" \")\n"
   ]
  },
  {
   "cell_type": "code",
   "execution_count": 123,
   "metadata": {},
   "outputs": [
    {
     "data": {
      "text/plain": [
       "array([15664, 15665])"
      ]
     },
     "execution_count": 123,
     "metadata": {},
     "output_type": "execute_result"
    }
   ],
   "source": [
    "np.where((input_data['#time,'].values > 1135136350.648) & (input_data['#time,'].values < 1135136350.649))[0]\n"
   ]
  },
  {
   "cell_type": "code",
   "execution_count": 124,
   "metadata": {},
   "outputs": [
    {
     "data": {
      "text/plain": [
       "14025.6"
      ]
     },
     "execution_count": 124,
     "metadata": {},
     "output_type": "execute_result"
    }
   ],
   "source": [
    "# Lower\n",
    "\n",
    "15664 -(2048*0.8)"
   ]
  },
  {
   "cell_type": "code",
   "execution_count": 125,
   "metadata": {},
   "outputs": [
    {
     "data": {
      "text/plain": [
       "16073.6"
      ]
     },
     "execution_count": 125,
     "metadata": {},
     "output_type": "execute_result"
    }
   ],
   "source": [
    "# Upper\n",
    "\n",
    "15664 + (2048*0.2)"
   ]
  },
  {
   "cell_type": "code",
   "execution_count": 126,
   "metadata": {},
   "outputs": [],
   "source": [
    "f1 = h5py.File('/fred/oz016/Chayan/samplegen_old/output/real_events_GW151226.hdf', 'r')\n",
    "strain = f1['GW151226']['h1_strain'][()]\n"
   ]
  },
  {
   "cell_type": "code",
   "execution_count": 127,
   "metadata": {},
   "outputs": [],
   "source": [
    "strain = strain[None,:]\n",
    "\n",
    "strain, maximum, minimum = _preprocess_data(strain, 1, 2048)\n",
    "\n",
    "strain = np.array(strain)\n"
   ]
  },
  {
   "cell_type": "code",
   "execution_count": 128,
   "metadata": {},
   "outputs": [
    {
     "name": "stdout",
     "output_type": "stream",
     "text": [
      "x_test_noisy shape: (1, 2073, 25, 1)\n"
     ]
    }
   ],
   "source": [
    "X_test_noisy = reshape_sequences(1, strain)\n",
    "\n",
    "# Reshape arrays to fit into Keras model\n",
    "X_test_noisy = X_test_noisy[:,:,:,None]\n",
    "        \n",
    "print('x_test_noisy shape:', X_test_noisy.shape)\n",
    "\n",
    "X_test_noisy = X_test_noisy.astype(\"float32\")\n"
   ]
  },
  {
   "cell_type": "code",
   "execution_count": 129,
   "metadata": {},
   "outputs": [
    {
     "name": "stdout",
     "output_type": "stream",
     "text": [
      "Model: \"sequential\"\n",
      "_________________________________________________________________\n",
      " Layer (type)                Output Shape              Param #   \n",
      "=================================================================\n",
      " time_distributed (TimeDistr  (None, 2073, 25, 128)    512       \n",
      " ibuted)                                                         \n",
      "                                                                 \n",
      " time_distributed_1 (TimeDis  (None, 2073, 25, 128)    49280     \n",
      " tributed)                                                       \n",
      "                                                                 \n",
      " time_distributed_2 (TimeDis  (None, 2073, 25, 128)    49280     \n",
      " tributed)                                                       \n",
      "                                                                 \n",
      " time_distributed_3 (TimeDis  (None, 2073, 25, 128)    49280     \n",
      " tributed)                                                       \n",
      "                                                                 \n",
      " batch_normalization (BatchN  (None, 2073, 25, 128)    512       \n",
      " ormalization)                                                   \n",
      "                                                                 \n",
      " time_distributed_4 (TimeDis  (None, 2073, 25, 64)     24640     \n",
      " tributed)                                                       \n",
      "                                                                 \n",
      " time_distributed_5 (TimeDis  (None, 2073, 13, 64)     0         \n",
      " tributed)                                                       \n",
      "                                                                 \n",
      " time_distributed_6 (TimeDis  (None, 2073, 13, 32)     6176      \n",
      " tributed)                                                       \n",
      "                                                                 \n",
      " time_distributed_7 (TimeDis  (None, 2073, 7, 32)      0         \n",
      " tributed)                                                       \n",
      "                                                                 \n",
      " time_distributed_8 (TimeDis  (None, 2073, 7, 16)      1552      \n",
      " tributed)                                                       \n",
      "                                                                 \n",
      " time_distributed_9 (TimeDis  (None, 2073, 4, 16)      0         \n",
      " tributed)                                                       \n",
      "                                                                 \n",
      " time_distributed_10 (TimeDi  (None, 2073, 64)         0         \n",
      " stributed)                                                      \n",
      "                                                                 \n",
      " bidirectional (Bidirectiona  (None, 2073, 128)        66048     \n",
      " l)                                                              \n",
      "                                                                 \n",
      " bidirectional_1 (Bidirectio  (None, 2073, 128)        98816     \n",
      " nal)                                                            \n",
      "                                                                 \n",
      " bidirectional_2 (Bidirectio  (None, 2073, 128)        98816     \n",
      " nal)                                                            \n",
      "                                                                 \n",
      " bidirectional_3 (Bidirectio  (None, 2073, 128)        98816     \n",
      " nal)                                                            \n",
      "                                                                 \n",
      " time_distributed_11 (TimeDi  (None, 2073, 1)          129       \n",
      " stributed)                                                      \n",
      "                                                                 \n",
      "=================================================================\n",
      "Total params: 543,857\n",
      "Trainable params: 543,601\n",
      "Non-trainable params: 256\n",
      "_________________________________________________________________\n"
     ]
    }
   ],
   "source": [
    "#from keras.models import load_model\n",
    " \n",
    "# load model\n",
    "\n",
    "#model = tf.keras.models.load_model('/fred/oz016/Chayan/GW-Denoiser/model/trained_model_test_IMBH_HM_O3b_noise_mass_corrected.h5', custom_objects={'FractalTanimotoLoss': FractalTanimotoLoss})\n",
    "\n",
    "model = tf.keras.models.load_model('/fred/oz016/Chayan/GW-Denoiser/model/model_IMRPhenomXPHM_O3b_noise_dilated_CNN_25_timesteps.h5', custom_objects={'FractalTanimotoLoss': FractalTanimotoLoss})\n",
    "\n",
    "# summarize model.\n",
    "model.summary()\n"
   ]
  },
  {
   "cell_type": "code",
   "execution_count": 130,
   "metadata": {},
   "outputs": [
    {
     "name": "stdout",
     "output_type": "stream",
     "text": [
      "WARNING:tensorflow:6 out of the last 8 calls to <function Model.make_predict_function.<locals>.predict_function at 0x7fbfd2d663a0> triggered tf.function retracing. Tracing is expensive and the excessive number of tracings could be due to (1) creating @tf.function repeatedly in a loop, (2) passing tensors with different shapes, (3) passing Python objects instead of tensors. For (1), please define your @tf.function outside of the loop. For (2), @tf.function has experimental_relax_shapes=True option that relaxes argument shapes that can avoid unnecessary retracing. For (3), please refer to https://www.tensorflow.org/guide/function#controlling_retracing and https://www.tensorflow.org/api_docs/python/tf/function for  more details.\n"
     ]
    }
   ],
   "source": [
    "decoded_signals = model.predict(X_test_noisy, batch_size=1)\n"
   ]
  },
  {
   "cell_type": "code",
   "execution_count": 131,
   "metadata": {},
   "outputs": [
    {
     "data": {
      "text/plain": [
       "[<matplotlib.lines.Line2D at 0x7fbfd1fe9f70>]"
      ]
     },
     "execution_count": 131,
     "metadata": {},
     "output_type": "execute_result"
    },
    {
     "data": {
      "image/png": "[encoded data removed]",
      "text/plain": [
       "<Figure size 432x288 with 1 Axes>"
      ]
     },
     "metadata": {
      "needs_background": "light"
     },
     "output_type": "display_data"
    }
   ],
   "source": [
    "cwb_reconst = input_data['amp_cwb_point_est,'].values[14026:16074][None,:]\n",
    "cwb_reconst, maximum, minimum = _preprocess_data(cwb_reconst,1,2048)\n",
    "\n",
    "plt.plot(cwb_reconst[0])\n",
    "\n",
    "plt.plot(decoded_signals[0])\n"
   ]
  },
  {
   "cell_type": "code",
   "execution_count": 132,
   "metadata": {},
   "outputs": [],
   "source": [
    "new_lower = []\n",
    "for value in input_data['amp_pe_post_lower_90_perc,'].values[14026:16074]:\n",
    "    if value > 0.0:\n",
    "        value = value/maximum\n",
    "    elif value < 0.0:\n",
    "        value = value/minimum\n",
    "    new_lower.append(value)\n",
    "        \n",
    "new_upper = []\n",
    "for value in input_data['amp_pe_post_upper_90_perc'].values[14026:16074]:\n",
    "    if value > 0.0:\n",
    "        value = value/maximum\n",
    "    elif value < 0.0:\n",
    "        value = value/minimum\n",
    "    new_upper.append(value)\n",
    "    "
   ]
  },
  {
   "cell_type": "code",
   "execution_count": 133,
   "metadata": {},
   "outputs": [],
   "source": [
    "from pycbc.types.timeseries import TimeSeries\n",
    "import matplotlib.pyplot as plt\n",
    "\n",
    "def plot_reconstructed(decoded_signals, pure_signals, upper_90, lower_90):\n",
    "    \n",
    "    length_signal = len(decoded_signals)\n",
    "\n",
    "    fig = plt.figure(figsize=(10,5))\n",
    "\n",
    "    time = np.linspace(-0.80, 0.20, length_signal)\n",
    "\n",
    "    plt.subplots_adjust(left=0.1,\n",
    "                    bottom=0.1, \n",
    "                    right=0.9, \n",
    "                    top=0.9, \n",
    "                    wspace=0.4, \n",
    "                    hspace=0.4)\n",
    "\n",
    "    signal_axes = fig.add_subplot(211)\n",
    "    signal_axes.plot(time,pure_signals, linewidth=1.2, label ='cWB maximum likelihood L1 signal')\n",
    "    signal_axes.plot(time,decoded_signals, linewidth=1.2, label ='ML reconstructed L1 signal', c='red', linestyle='dashed')\n",
    "    signal_axes.fill_between(time,lower_90,upper_90, color='lightgrey', label='cWB-LALInference 90% C.I.')\n",
    "    signal_axes.set_ylabel('Rescaled Amplitudes')\n",
    "    signal_axes.legend()\n",
    "    \n",
    "    plt.savefig('IMBH_test/O1_real_events/GW151226_reconstruction_CI_dilated_CNN_25_timesteps_H1.png', bbox_inches='tight', facecolor='w', transparent=False, dpi=200)\n"
   ]
  },
  {
   "cell_type": "code",
   "execution_count": 134,
   "metadata": {},
   "outputs": [
    {
     "data": {
      "image/png": "[encoded data removed]",
      "text/plain": [
       "<Figure size 720x360 with 1 Axes>"
      ]
     },
     "metadata": {
      "needs_background": "light"
     },
     "output_type": "display_data"
    }
   ],
   "source": [
    "plot_reconstructed(decoded_signals[0][0:2048], np.squeeze(cwb_reconst), new_upper, new_lower)\n"
   ]
  },
  {
   "cell_type": "markdown",
   "metadata": {},
   "source": [
    "# GW151012"
   ]
  },
  {
   "cell_type": "code",
   "execution_count": 108,
   "metadata": {},
   "outputs": [],
   "source": [
    "input_data=pd.read_csv(\"/fred/oz016/Chayan/samplegen_old/output/GW151012_rec_signal_time_L1.dat\",header=0,delimiter=\" \")\n"
   ]
  },
  {
   "cell_type": "code",
   "execution_count": 109,
   "metadata": {},
   "outputs": [
    {
     "data": {
      "text/plain": [
       "array([15246, 15247, 15248, 15249])"
      ]
     },
     "execution_count": 109,
     "metadata": {},
     "output_type": "execute_result"
    }
   ],
   "source": [
    "np.where((input_data['#time,'].values > 1128678900.444) & (input_data['#time,'].values < 1128678900.446))[0]\n"
   ]
  },
  {
   "cell_type": "code",
   "execution_count": 110,
   "metadata": {},
   "outputs": [
    {
     "data": {
      "text/plain": [
       "13607.6"
      ]
     },
     "execution_count": 110,
     "metadata": {},
     "output_type": "execute_result"
    }
   ],
   "source": [
    "# Lower\n",
    "\n",
    "15246 -(2048*0.8)"
   ]
  },
  {
   "cell_type": "code",
   "execution_count": 111,
   "metadata": {},
   "outputs": [
    {
     "data": {
      "text/plain": [
       "15655.6"
      ]
     },
     "execution_count": 111,
     "metadata": {},
     "output_type": "execute_result"
    }
   ],
   "source": [
    "# Upper\n",
    "\n",
    "15246 + (2048*0.2)"
   ]
  },
  {
   "cell_type": "code",
   "execution_count": 112,
   "metadata": {},
   "outputs": [],
   "source": [
    "f1 = h5py.File('/fred/oz016/Chayan/samplegen_old/output/real_events_GW151012.hdf', 'r')\n",
    "strain = f1['GW151012']['l1_strain'][()]\n"
   ]
  },
  {
   "cell_type": "code",
   "execution_count": 113,
   "metadata": {},
   "outputs": [],
   "source": [
    "strain = strain[None,:]\n",
    "\n",
    "strain, maximum, minimum = _preprocess_data(strain, 1, 2048)\n",
    "\n",
    "strain = np.array(strain)\n"
   ]
  },
  {
   "cell_type": "code",
   "execution_count": 114,
   "metadata": {},
   "outputs": [
    {
     "name": "stdout",
     "output_type": "stream",
     "text": [
      "x_test_noisy shape: (1, 2058, 10, 1)\n"
     ]
    }
   ],
   "source": [
    "X_test_noisy = reshape_sequences(1, strain)\n",
    "\n",
    "# Reshape arrays to fit into Keras model\n",
    "X_test_noisy = X_test_noisy[:,:,:,None]\n",
    "        \n",
    "print('x_test_noisy shape:', X_test_noisy.shape)\n",
    "\n",
    "X_test_noisy = X_test_noisy.astype(\"float32\")\n"
   ]
  },
  {
   "cell_type": "code",
   "execution_count": 115,
   "metadata": {},
   "outputs": [
    {
     "name": "stdout",
     "output_type": "stream",
     "text": [
      "Model: \"sequential\"\n",
      "_________________________________________________________________\n",
      " Layer (type)                Output Shape              Param #   \n",
      "=================================================================\n",
      " time_distributed (TimeDistr  (None, 2058, 10, 32)     128       \n",
      " ibuted)                                                         \n",
      "                                                                 \n",
      " time_distributed_1 (TimeDis  (None, 2058, 10, 32)     0         \n",
      " tributed)                                                       \n",
      "                                                                 \n",
      " time_distributed_2 (TimeDis  (None, 2058, 5, 32)      0         \n",
      " tributed)                                                       \n",
      "                                                                 \n",
      " time_distributed_3 (TimeDis  (None, 2058, 5, 16)      1552      \n",
      " tributed)                                                       \n",
      "                                                                 \n",
      " time_distributed_4 (TimeDis  (None, 2058, 5, 16)      0         \n",
      " tributed)                                                       \n",
      "                                                                 \n",
      " time_distributed_5 (TimeDis  (None, 2058, 80)         0         \n",
      " tributed)                                                       \n",
      "                                                                 \n",
      " bidirectional (Bidirectiona  (None, 2058, 64)         28928     \n",
      " l)                                                              \n",
      "                                                                 \n",
      " bidirectional_1 (Bidirectio  (None, 2058, 64)         24832     \n",
      " nal)                                                            \n",
      "                                                                 \n",
      " bidirectional_2 (Bidirectio  (None, 2058, 64)         24832     \n",
      " nal)                                                            \n",
      "                                                                 \n",
      " time_distributed_6 (TimeDis  (None, 2058, 1)          65        \n",
      " tributed)                                                       \n",
      "                                                                 \n",
      "=================================================================\n",
      "Total params: 80,337\n",
      "Trainable params: 80,337\n",
      "Non-trainable params: 0\n",
      "_________________________________________________________________\n"
     ]
    }
   ],
   "source": [
    "#from keras.models import load_model\n",
    " \n",
    "# load model\n",
    "\n",
    "model = tf.keras.models.load_model('/fred/oz016/Chayan/GW-Denoiser/model/trained_model_test_IMBH_HM_O3b_noise_mass_corrected.h5', custom_objects={'FractalTanimotoLoss': FractalTanimotoLoss})\n",
    "\n",
    "#model = tf.keras.models.load_model('/fred/oz016/Chayan/GW-Denoiser/model/model_IMRPhenomXPHM_O3b_noise_dilated_CNN_25_timesteps.h5', custom_objects={'FractalTanimotoLoss': FractalTanimotoLoss})\n",
    "\n",
    "# summarize model.\n",
    "model.summary()\n"
   ]
  },
  {
   "cell_type": "code",
   "execution_count": 116,
   "metadata": {},
   "outputs": [
    {
     "name": "stdout",
     "output_type": "stream",
     "text": [
      "WARNING:tensorflow:5 out of the last 7 calls to <function Model.make_predict_function.<locals>.predict_function at 0x7fbfe83eeca0> triggered tf.function retracing. Tracing is expensive and the excessive number of tracings could be due to (1) creating @tf.function repeatedly in a loop, (2) passing tensors with different shapes, (3) passing Python objects instead of tensors. For (1), please define your @tf.function outside of the loop. For (2), @tf.function has experimental_relax_shapes=True option that relaxes argument shapes that can avoid unnecessary retracing. For (3), please refer to https://www.tensorflow.org/guide/function#controlling_retracing and https://www.tensorflow.org/api_docs/python/tf/function for  more details.\n"
     ]
    }
   ],
   "source": [
    "decoded_signals = model.predict(X_test_noisy, batch_size=1)\n"
   ]
  },
  {
   "cell_type": "code",
   "execution_count": 117,
   "metadata": {},
   "outputs": [
    {
     "data": {
      "text/plain": [
       "[<matplotlib.lines.Line2D at 0x7fbfd14ec070>]"
      ]
     },
     "execution_count": 117,
     "metadata": {},
     "output_type": "execute_result"
    },
    {
     "data": {
      "image/png": "[encoded data removed]",
      "text/plain": [
       "<Figure size 432x288 with 1 Axes>"
      ]
     },
     "metadata": {
      "needs_background": "light"
     },
     "output_type": "display_data"
    }
   ],
   "source": [
    "cwb_reconst = input_data['amp_cwb_point_est,'].values[13608:15656][None,:]\n",
    "cwb_reconst, maximum, minimum = _preprocess_data(cwb_reconst,1,2048)\n",
    "\n",
    "plt.plot(cwb_reconst[0])\n",
    "\n",
    "plt.plot(decoded_signals[0])\n"
   ]
  },
  {
   "cell_type": "code",
   "execution_count": 118,
   "metadata": {},
   "outputs": [],
   "source": [
    "new_lower = []\n",
    "for value in input_data['amp_pe_post_lower_90_perc,'].values[13608:15656]:\n",
    "    if value > 0.0:\n",
    "        value = value/maximum\n",
    "    elif value < 0.0:\n",
    "        value = value/minimum\n",
    "    new_lower.append(value)\n",
    "        \n",
    "new_upper = []\n",
    "for value in input_data['amp_pe_post_upper_90_perc'].values[13608:15656]:\n",
    "    if value > 0.0:\n",
    "        value = value/maximum\n",
    "    elif value < 0.0:\n",
    "        value = value/minimum\n",
    "    new_upper.append(value)\n",
    "    "
   ]
  },
  {
   "cell_type": "code",
   "execution_count": 119,
   "metadata": {},
   "outputs": [],
   "source": [
    "from pycbc.types.timeseries import TimeSeries\n",
    "import matplotlib.pyplot as plt\n",
    "\n",
    "def plot_reconstructed(decoded_signals, pure_signals, upper_90, lower_90):\n",
    "    \n",
    "    length_signal = len(decoded_signals)\n",
    "\n",
    "    fig = plt.figure(figsize=(10,5))\n",
    "\n",
    "    time = np.linspace(-0.80, 0.20, length_signal)\n",
    "\n",
    "    plt.subplots_adjust(left=0.1,\n",
    "                    bottom=0.1, \n",
    "                    right=0.9, \n",
    "                    top=0.9, \n",
    "                    wspace=0.4, \n",
    "                    hspace=0.4)\n",
    "\n",
    "    signal_axes = fig.add_subplot(211)\n",
    "    signal_axes.plot(time,pure_signals, linewidth=1.2, label ='cWB maximum likelihood L1 signal')\n",
    "    signal_axes.plot(time,decoded_signals, linewidth=1.2, label ='ML reconstructed L1 signal', c='red', linestyle='dashed')\n",
    "    signal_axes.fill_between(time,lower_90,upper_90, color='lightgrey', label='cWB-LALInference 90% C.I.')\n",
    "    signal_axes.set_ylabel('Rescaled Amplitudes')\n",
    "    signal_axes.legend()\n",
    "    \n",
    "    plt.savefig('IMBH_test/O1_real_events/GW151012_reconstruction_CI_dilated_CNN_10_timesteps_L1.png', bbox_inches='tight', facecolor='w', transparent=False, dpi=200)\n"
   ]
  },
  {
   "cell_type": "code",
   "execution_count": 120,
   "metadata": {},
   "outputs": [
    {
     "data": {
      "image/png": "[encoded data removed]",
      "text/plain": [
       "<Figure size 720x360 with 1 Axes>"
      ]
     },
     "metadata": {
      "needs_background": "light"
     },
     "output_type": "display_data"
    }
   ],
   "source": [
    "plot_reconstructed(decoded_signals[0][0:2048], np.squeeze(cwb_reconst), new_upper, new_lower)\n"
   ]
  },
  {
   "cell_type": "code",
   "execution_count": null,
   "metadata": {},
   "outputs": [],
   "source": []
  }
 ],
 "metadata": {
  "kernelspec": {
   "display_name": "Python 3",
   "language": "python",
   "name": "python3"
  },
  "language_info": {
   "codemirror_mode": {
    "name": "ipython",
    "version": 3
   },
   "file_extension": ".py",
   "mimetype": "text/x-python",
   "name": "python",
   "nbconvert_exporter": "python",
   "pygments_lexer": "ipython3",
   "version": "3.9.6"
  }
 },
 "nbformat": 4,
 "nbformat_minor": 4
}
