{
 "cells": [
  {
   "cell_type": "code",
   "execution_count": 1,
   "metadata": {},
   "outputs": [],
   "source": [
    "from __future__ import print_function\n",
    "from matplotlib import pyplot as plt\n",
    "plt.switch_backend('agg')\n",
    "%matplotlib inline\n",
    "import numpy as np\n",
    "#import pandas as pd\n",
    "\n",
    "from IPython.display import display, HTML\n",
    "import tensorflow as tf\n",
    "#import numpy as np\n",
    "#import pandas as pd\n",
    "#import random as ran\n",
    "import h5py\n",
    "\n",
    "import pandas as pd\n"
   ]
  },
  {
   "cell_type": "code",
   "execution_count": 2,
   "metadata": {},
   "outputs": [],
   "source": [
    "def Overlap_calc(hp,sp,psd):\n",
    "    f_low = 30\n",
    "    m, i = match(hp, sp, psd=psd, low_frequency_cutoff=f_low)\n",
    "    o = overlap(hp, sp, psd=psd, low_frequency_cutoff=f_low)\n",
    "    return m\n"
   ]
  },
  {
   "cell_type": "code",
   "execution_count": 3,
   "metadata": {},
   "outputs": [],
   "source": [
    "def _preprocess_data(data, num, samples):\n",
    "    new_array = []\n",
    "    for i in range(num):\n",
    "        dataset = data[i]\n",
    "        if((dataset.max() != 0.0) and (dataset.min() != 0.0)):\n",
    "            maximum = np.max(dataset)\n",
    "            minimum = np.abs(np.min(dataset))\n",
    "            for j in range(samples):\n",
    "                if(dataset[j] > 0):\n",
    "                    dataset[j] = dataset[j]/maximum\n",
    "                else:\n",
    "                    dataset[j] = dataset[j]/minimum\n",
    "        new_array.append(dataset)\n",
    "    return new_array, maximum, minimum\n"
   ]
  },
  {
   "cell_type": "code",
   "execution_count": 4,
   "metadata": {},
   "outputs": [],
   "source": [
    "# Split a univariate sequence into samples\n",
    "#def split_sequence(sequence_noisy,sequence_pure,n_steps):\n",
    "def split_sequence(sequence_noisy,n_steps):\n",
    "    X = [] \n",
    "#    y = []\n",
    "    for i in range(len(sequence_noisy)):\n",
    "    # find the end of this pattern\n",
    "        end_ix = i + n_steps\n",
    "        # check if we are beyond the sequence\n",
    "        if end_ix > len(sequence_noisy)-1:\n",
    "            break\n",
    "        # gather input and output parts of the pattern\n",
    "        seq_x = sequence_noisy[i:end_ix] \n",
    "#        seq_y = sequence_pure[end_ix]\n",
    "        X.append(seq_x)\n",
    "#        y.append(seq_y)\n",
    "#    return array(X), array(y)\n",
    "    return np.array(X)\n",
    "    \n",
    "    \n",
    "#def reshape_sequences(self, num, data_noisy, data_pure):\n",
    "def reshape_sequences(num, data_noisy):\n",
    "    n_steps = 10\n",
    "    arr_noisy = []\n",
    "#    arr_pure = []\n",
    "        \n",
    "    for i in range(num):\n",
    "        X_noisy = data_noisy[i]\n",
    "#        X_pure = data_pure[i]\n",
    "        X_noisy = np.pad(X_noisy, (n_steps, n_steps), 'constant', constant_values=(0, 0))\n",
    "#        X_pure = np.pad(X_pure, (n_steps, n_steps), 'constant', constant_values=(0, 0))\n",
    "        # split into samples\n",
    "#        X, y = self.split_sequence(X_noisy, X_pure, n_steps)\n",
    "        X = split_sequence(X_noisy, n_steps)\n",
    "        arr_noisy.append(X)\n",
    "#        arr_pure.append(y)\n",
    "    \n",
    "    arr_noisy = np.asarray(arr_noisy)\n",
    "#    arr_pure = np.asarray(arr_pure)\n",
    "        \n",
    "#    return arr_noisy, arr_pure\n",
    "    return arr_noisy\n"
   ]
  },
  {
   "cell_type": "code",
   "execution_count": 5,
   "metadata": {},
   "outputs": [],
   "source": [
    "class FractalTanimotoLoss(tf.keras.losses.Loss):\n",
    "        def __init__(lr, base_lr=2e-3, depth=0, smooth=1e-6, **kwargs):\n",
    "            depth = depth\n",
    "            learning_rate = lr\n",
    "            base_lr = base_lr\n",
    "            smooth = smooth\n",
    "            super().__init__(**kwargs)\n",
    "    \n",
    "        def inner_prod(self, y, x):\n",
    "            prod = y*x\n",
    "            prod = K.sum(prod, axis=1)\n",
    "        \n",
    "            return prod\n",
    "    \n",
    "        def tnmt_base(x, y, scale):\n",
    "\n",
    "            tpl  = inner_prod(y,x)\n",
    "            tpp  = inner_prod(y,y)\n",
    "            tll  = inner_prod(x,x)\n",
    "\n",
    "\n",
    "            num = tpl + self.smooth\n",
    "            denum = 0.0\n",
    "            result = 0.0\n",
    "            for d in range(depth):\n",
    "                a = 2.**d\n",
    "                b = -(2.*a-1.)\n",
    "\n",
    "                denum = denum + tf.math.reciprocal( a*(tpp+tll) + b *tpl + smooth)\n",
    "                \n",
    "            result =  num * denum * scale\n",
    "            \n",
    "            return  result*scale\n",
    "        \n",
    "        def call(y_true, y_pred):\n",
    "            \n",
    "            if(learning_rate < base_lr):\n",
    "                depth = depth + 5\n",
    "                \n",
    "            depth = depth+1\n",
    "            scale = 1./len(range(depth))\n",
    "            \n",
    "            l1 = K.mean(K.square(y_pred - y_true),axis=-1)\n",
    "            result = tnmt_base(y_true, y_pred, scale)\n",
    "        \n",
    "            return  l1 - 0.01*result\n",
    "        \n",
    "        def get_config(self):\n",
    "            base_config = super().get_config()\n",
    "            return {**base_config, \"depth\": depth}   \n",
    "    "
   ]
  },
  {
   "cell_type": "code",
   "execution_count": 6,
   "metadata": {},
   "outputs": [],
   "source": [
    "class TimeDistributedMultiHeadAttention(tf.keras.layers.Layer):\n",
    "        def __init__(self, num_heads, key_dim, **kwargs):\n",
    "            super().__init__(**kwargs)\n",
    "            self.num_heads = num_heads\n",
    "            self.key_dim = key_dim\n",
    "            self.multi_head_attention = tf.keras.layers.MultiHeadAttention(num_heads=num_heads, key_dim=key_dim)\n",
    "\n",
    "        def call(self, inputs):\n",
    "            # Use tf.shape for dynamic shape and inputs.shape for static shape\n",
    "            shape = tf.shape(inputs)\n",
    "            static_shape = inputs.shape\n",
    "            batch_size, num_subsequences, subsequence_length = shape[0], static_shape[1], static_shape[2]\n",
    "            features = static_shape[3]\n",
    "\n",
    "            reshaped_inputs = tf.reshape(inputs, [-1, subsequence_length, features])\n",
    "\n",
    "            # Apply multi-head attention to each subsequence individually\n",
    "            attention_output = self.multi_head_attention(reshaped_inputs, reshaped_inputs)\n",
    "\n",
    "            # Reshape the output back to the original input shape\n",
    "            output_shape = [-1, num_subsequences, subsequence_length, features]\n",
    "            return tf.reshape(attention_output, output_shape)\n",
    "\n",
    "        def compute_output_shape(self, input_shape):\n",
    "            return input_shape\n",
    "        \n",
    "        def get_config(self):\n",
    "            config = super().get_config()\n",
    "            config.update({\n",
    "                'num_heads': self.num_heads,\n",
    "                'key_dim': self.key_dim\n",
    "            })\n",
    "            return config\n"
   ]
  },
  {
   "cell_type": "code",
   "execution_count": 7,
   "metadata": {},
   "outputs": [],
   "source": [
    "import h5py\n",
    "from matplotlib import pyplot as plt\n",
    "\n",
    "f1 = h5py.File('/fred/oz016/Chayan/samplegen_old/output/GW190521_background.hdf', 'r')\n",
    "f2 = h5py.File('/fred/oz016/Chayan/samplegen_old/output/GW190412_background.hdf', 'r')\n",
    "f3 = h5py.File('/fred/oz016/Chayan/samplegen_old/output/GW190602_background.hdf', 'r')\n",
    "f4 = h5py.File('/fred/oz016/Chayan/samplegen_old/output/GW190517_background.hdf', 'r')\n",
    "\n",
    "GW190521_noise = f1['noise_samples']['l1_strain'][()]\n",
    "GW190412_noise = f2['noise_samples']['l1_strain'][()]\n",
    "GW190602_noise = f3['noise_samples']['l1_strain'][()]\n",
    "GW190517_noise = f4['noise_samples']['l1_strain'][()]\n",
    "\n",
    "GW190521_noise_signal = f1['noise_parameters']['l1_signal_whitened'][()]\n",
    "GW190412_noise_signal = f2['noise_parameters']['l1_signal_whitened'][()]\n",
    "GW190602_noise_signal = f3['noise_parameters']['l1_signal_whitened'][()]\n",
    "GW190517_noise_signal = f4['noise_parameters']['l1_signal_whitened'][()]\n"
   ]
  },
  {
   "cell_type": "code",
   "execution_count": 8,
   "metadata": {},
   "outputs": [],
   "source": [
    "f1.close()\n",
    "f2.close()\n",
    "f3.close()\n",
    "f4.close()\n"
   ]
  },
  {
   "cell_type": "code",
   "execution_count": 9,
   "metadata": {},
   "outputs": [],
   "source": [
    "f1 = h5py.File('/fred/oz016/Chayan/samplegen_old/output/real_events_GW190521.hdf', 'r')\n",
    "f2 = h5py.File('/fred/oz016/Chayan/samplegen_old/output/real_events_GW190412.hdf', 'r')\n",
    "f3 = h5py.File('/fred/oz016/Chayan/samplegen_old/output/real_events_GW190602_175927.hdf', 'r')\n",
    "f4 = h5py.File('/fred/oz016/Chayan/samplegen_old/output/real_events_GW190517_055101.hdf', 'r')\n",
    "\n",
    "GW190521_strain = f1['GW190521-v3']['l1_strain'][()][None,:]\n",
    "GW190412_strain = f2['GW190412-v3']['l1_strain'][()][None,:]\n",
    "GW190602_strain = f3['GW190602_175927-v1']['l1_strain'][()][None,:]\n",
    "GW190517_strain = f4['GW190517_055101-v1']['l1_strain'][()][None,:]\n",
    "\n",
    "f1.close()\n",
    "f2.close()\n",
    "f3.close()\n",
    "f4.close()"
   ]
  },
  {
   "cell_type": "code",
   "execution_count": 10,
   "metadata": {},
   "outputs": [],
   "source": [
    "import os\n",
    "\n",
    "def get_pe_data(event_name):\n",
    "    \n",
    "    # Define the base directory and file name\n",
    "    base_dir = '/fred/oz016/Chayan/samplegen_old/output'\n",
    "    file_name = event_name+'_maxl_li_signal_time_L1.dat'\n",
    "\n",
    "    # Construct the full file path\n",
    "    full_file_path = os.path.join(base_dir, file_name)\n",
    "    \n",
    "    with open(full_file_path, 'r') as file:\n",
    "        time = []\n",
    "        amp = []\n",
    "        for line in file:\n",
    "            # Split the line into parts based on whitespace or specific delimiter\n",
    "            parts = line.split()  # Use split('\\t') for tab-delimited files\n",
    "        \n",
    "            try:\n",
    "                col1 = float(parts[0])\n",
    "                col2 = float(parts[1])\n",
    "                time.append(col1)\n",
    "                amp.append(col2)\n",
    "            except ValueError:\n",
    "                print(f\"Warning: Can't convert line to floats: {line.strip()}\")\n",
    "\n",
    "    time = np.array(time)\n",
    "    amp = np.array(amp)\n",
    "\n",
    "    return amp, time\n",
    "\n",
    "\n",
    "def get_PE_reconst(reconst_cwb, gps_time, event_name):\n",
    "\n",
    "    sampling_rate = 1024.0\n",
    "    seconds_before_event = 0.8\n",
    "    seconds_after_event = 0.2                                 \n",
    "                                 \n",
    "    pe_reconst, time = get_pe_data(event_name)   \n",
    "\n",
    "    index_gps_time = np.where((time > gps_time-0.001) & (time < gps_time+0.001))[0][0]\n",
    "    lower_lim = round(index_gps_time -(sampling_rate*seconds_before_event))\n",
    "    upper_lim = round(index_gps_time +(sampling_rate*seconds_after_event))\n",
    "     \n",
    "    pe_reconst = pe_reconst[lower_lim:upper_lim][None,:]\n",
    "    reconstructed_pe, maximum, minimum = _preprocess_data(pe_reconst,1,1024)\n",
    "        \n",
    "    if(event_name == 'GW190602_175927'):\n",
    "        reconstructed_pe = reconstructed_pe[::2]\n",
    "\n",
    "    return reconstructed_pe\n",
    "\n",
    "\n",
    "cWB_file_path = os.path.join(\"/fred/oz016/Chayan/samplegen_old/output\", \"GW190521_rec_signal_time_L1.dat\")\n",
    "reconst_cWB = pd.read_csv(cWB_file_path, header=0, delimiter=\" \")\n",
    "\n",
    "GW190521_PE = get_PE_reconst(reconst_cWB, 1242442967.448, 'GW190521')[0]\n"
   ]
  },
  {
   "cell_type": "code",
   "execution_count": 11,
   "metadata": {},
   "outputs": [],
   "source": [
    "cWB_file_path = os.path.join(\"/fred/oz016/Chayan/samplegen_old/output\", \"GW190412_rec_signal_time_L1.dat\")\n",
    "reconst_cWB = pd.read_csv(cWB_file_path, header=0, delimiter=\" \")\n",
    "GW190412_PE = get_PE_reconst(reconst_cWB, 1239082262.201, 'GW190412')[0]\n",
    "\n",
    "cWB_file_path = os.path.join(\"/fred/oz016/Chayan/samplegen_old/output\", \"GW190602_175927_rec_signal_time_L1.dat\")\n",
    "reconst_cWB = pd.read_csv(cWB_file_path, header=0, delimiter=\" \")\n",
    "GW190602_PE = get_PE_reconst(reconst_cWB, 1243533585.085, 'GW190602_175927')[0]\n",
    "\n",
    "cWB_file_path = os.path.join(\"/fred/oz016/Chayan/samplegen_old/output\", \"GW190517_055101_rec_signal_time_L1.dat\")\n",
    "reconst_cWB = pd.read_csv(cWB_file_path, header=0, delimiter=\" \")\n",
    "GW190517_PE = get_PE_reconst(reconst_cWB, 1242107479.820, 'GW190517_055101')[0]\n"
   ]
  },
  {
   "cell_type": "code",
   "execution_count": 12,
   "metadata": {},
   "outputs": [],
   "source": [
    "strain = np.concatenate([GW190521_strain, GW190412_strain, GW190602_strain, GW190517_strain], axis=0)\n",
    "noise = np.concatenate([GW190521_noise, GW190412_noise, GW190602_noise, GW190517_noise], axis=0)\n"
   ]
  },
  {
   "cell_type": "code",
   "execution_count": 13,
   "metadata": {},
   "outputs": [
    {
     "data": {
      "text/plain": [
       "(4, 2048)"
      ]
     },
     "execution_count": 13,
     "metadata": {},
     "output_type": "execute_result"
    }
   ],
   "source": [
    "strain, maximum, minimum = _preprocess_data(strain, strain.shape[0], 2048)\n",
    "strain = np.array(strain)\n",
    "strain.shape\n"
   ]
  },
  {
   "cell_type": "code",
   "execution_count": 14,
   "metadata": {},
   "outputs": [
    {
     "data": {
      "text/plain": [
       "(800, 2048)"
      ]
     },
     "execution_count": 14,
     "metadata": {},
     "output_type": "execute_result"
    }
   ],
   "source": [
    "noise, maximum_noise, minimum_noise = _preprocess_data(noise, noise.shape[0], 2048)\n",
    "noise = np.array(noise)\n",
    "noise.shape\n"
   ]
  },
  {
   "cell_type": "code",
   "execution_count": 15,
   "metadata": {},
   "outputs": [],
   "source": [
    "X_test_strain = reshape_sequences(strain.shape[0], strain)\n",
    "X_test_noise = reshape_sequences(noise.shape[0], noise)\n"
   ]
  },
  {
   "cell_type": "code",
   "execution_count": 16,
   "metadata": {},
   "outputs": [
    {
     "name": "stdout",
     "output_type": "stream",
     "text": [
      "x_test_strain shape: (4, 2058, 10, 1)\n",
      "x_test_pure_signal shape: (800, 2058, 10, 1)\n"
     ]
    }
   ],
   "source": [
    "# Reshape arrays to fit into Keras model\n",
    "X_test_strain = X_test_strain[:,:,:,None]\n",
    "print('x_test_strain shape:', X_test_strain.shape)\n",
    "X_test_strain = X_test_strain.astype(\"float32\")\n",
    "\n",
    "X_test_noise = X_test_noise[:,:,:,None]\n",
    "print('x_test_pure_signal shape:', X_test_noise.shape)\n",
    "X_test_noise = X_test_noise.astype(\"float32\")\n"
   ]
  },
  {
   "cell_type": "code",
   "execution_count": 17,
   "metadata": {},
   "outputs": [],
   "source": [
    "class NegativeLogLikelihood:\n",
    "    def __call__(self, y, rv_y):\n",
    "        return -rv_y.log_prob(y)"
   ]
  },
  {
   "cell_type": "code",
   "execution_count": 18,
   "metadata": {},
   "outputs": [],
   "source": [
    "import tensorflow_probability as tfp\n",
    "\n",
    "negloglik = NegativeLogLikelihood()\n",
    "\n",
    "model = tf.keras.models.load_model('/fred/oz016/Chayan/GW-Denoiser/model/model_IMRPhenomXPHM_O3b_noise_15_timesteps_uncertainty_amplitudes_scaled_100.h5', custom_objects={'TimeDistributedMultiHeadAttention': TimeDistributedMultiHeadAttention, 'IndependentNormal': tfp.layers.IndependentNormal,'negloglik': negloglik})\n",
    "\n",
    "#model = tf.keras.models.load_model('/fred/oz016/Chayan/GW-Denoiser/model/model_IMRPhenomXPHM_DeepClean_10_timesteps_uncertainty_amplitudes_scaled_100_1.h5', custom_objects={'TimeDistributedMultiHeadAttention': TimeDistributedMultiHeadAttention, 'IndependentNormal': tfp.layers.IndependentNormal,'negloglik': negloglik})\n"
   ]
  },
  {
   "cell_type": "code",
   "execution_count": 19,
   "metadata": {},
   "outputs": [],
   "source": [
    "distribution = model(X_test_strain)\n",
    "    \n",
    "# Extract mean and standard deviation from the distribution\n",
    "mean_preds = distribution.mean()\n",
    "std_preds = distribution.stddev()\n",
    " \n",
    "mean_preds = mean_preds.numpy().squeeze()\n",
    "std_preds = std_preds.numpy().squeeze()\n",
    "\n",
    "# Calculate the upper and lower bounds of the 2-standard deviation interval\n",
    "lower_bound_90 = mean_preds - 1.645 * std_preds\n",
    "upper_bound_90 = mean_preds + 1.645 * std_preds\n",
    "\n",
    "lower_bound_50 = mean_preds - 0.6745 * std_preds\n",
    "upper_bound_50 = mean_preds + 0.6745 * std_preds"
   ]
  },
  {
   "cell_type": "code",
   "execution_count": 20,
   "metadata": {},
   "outputs": [],
   "source": [
    "distribution_noise = model(X_test_noise)\n",
    "    \n",
    "# Extract mean and standard deviation from the distribution\n",
    "mean_preds_noise = distribution_noise.mean()\n",
    "std_preds_noise = distribution_noise.stddev()\n",
    " \n",
    "mean_preds_noise = mean_preds_noise.numpy().squeeze()\n",
    "std_preds_noise = std_preds_noise.numpy().squeeze()\n",
    "\n",
    "# Calculate the upper and lower bounds of the 2-standard deviation interval\n",
    "lower_bound_90_noise = mean_preds_noise - 1.645 * std_preds_noise\n",
    "upper_bound_90_noise = mean_preds_noise + 1.645 * std_preds_noise\n",
    "\n",
    "lower_bound_50_noise = mean_preds_noise - 0.6745 * std_preds_noise\n",
    "upper_bound_50_noise = mean_preds_noise + 0.6745 * std_preds_noise\n"
   ]
  },
  {
   "cell_type": "code",
   "execution_count": 21,
   "metadata": {},
   "outputs": [],
   "source": [
    "mean_preds = mean_preds*100.0\n",
    "mean_preds_noise = mean_preds_noise*100.0"
   ]
  },
  {
   "cell_type": "code",
   "execution_count": 22,
   "metadata": {},
   "outputs": [],
   "source": [
    "std_preds = std_preds*100.0\n",
    "std_preds_noise = std_preds_noise*100.0"
   ]
  },
  {
   "cell_type": "code",
   "execution_count": null,
   "metadata": {},
   "outputs": [],
   "source": []
  },
  {
   "cell_type": "code",
   "execution_count": 23,
   "metadata": {},
   "outputs": [],
   "source": [
    "from scipy.fft import fft, ifft\n",
    "\n",
    "def get_snr_frac(decoded_signal):\n",
    "    \n",
    "    h_fft = fft(decoded_signal)\n",
    "    template_fft = fft(decoded_signal)\n",
    "    snr_freq = (h_fft * template_fft.conjugate())\n",
    "    snr_time = np.abs(ifft(snr_freq))\n",
    "    optimal_snr_ml = np.sqrt(np.max(snr_time))\n",
    "\n",
    "    return optimal_snr_ml"
   ]
  },
  {
   "cell_type": "code",
   "execution_count": 24,
   "metadata": {},
   "outputs": [],
   "source": [
    "original_strain = np.concatenate([GW190521_strain, GW190412_strain, GW190602_strain, GW190517_strain], axis=0)\n"
   ]
  },
  {
   "cell_type": "code",
   "execution_count": 26,
   "metadata": {},
   "outputs": [],
   "source": [
    "mean_reconstructions, maximum, minimum = _preprocess_data(mean_reconstructions, mean_reconstructions.shape[0], 1024)\n",
    "mean_reconstructions = np.array(mean_reconstructions)"
   ]
  },
  {
   "cell_type": "code",
   "execution_count": 25,
   "metadata": {},
   "outputs": [],
   "source": [
    "residuals_signal = [(o-m[0:2048]) for o,m,s in zip(original_strain, mean_preds, std_preds)]\n",
    "\n",
    "#residuals_signal_GW190521 = GW190521_PE-mean_reconstructions[0]"
   ]
  },
  {
   "cell_type": "code",
   "execution_count": 26,
   "metadata": {},
   "outputs": [
    {
     "data": {
      "text/plain": [
       "[<matplotlib.lines.Line2D at 0x7f07621cfeb0>]"
      ]
     },
     "execution_count": 26,
     "metadata": {},
     "output_type": "execute_result"
    },
    {
     "data": {
      "image/png": "[encoded data removed]",
      "text/plain": [
       "<Figure size 432x288 with 1 Axes>"
      ]
     },
     "metadata": {
      "needs_background": "light"
     },
     "output_type": "display_data"
    }
   ],
   "source": [
    "plt.plot(residuals_signal[0])"
   ]
  },
  {
   "cell_type": "code",
   "execution_count": 27,
   "metadata": {},
   "outputs": [],
   "source": [
    "original_noise = np.concatenate([GW190521_noise, GW190412_noise, GW190602_noise, GW190517_noise], axis=0)\n"
   ]
  },
  {
   "cell_type": "code",
   "execution_count": 57,
   "metadata": {},
   "outputs": [
    {
     "data": {
      "text/plain": [
       "7.944910151749634"
      ]
     },
     "execution_count": 57,
     "metadata": {},
     "output_type": "execute_result"
    }
   ],
   "source": [
    "from pycbc.filter import sigma, sigmasq, matched_filter\n",
    "from pycbc.types import TimeSeries\n",
    "\n",
    "np.sqrt(sigmasq(TimeSeries((residuals_signal[0]).astype('float64'), delta_t = 1.0/2048), \n",
    "            psd=None,low_frequency_cutoff=30.0)/32.0)\n"
   ]
  },
  {
   "cell_type": "code",
   "execution_count": 51,
   "metadata": {},
   "outputs": [],
   "source": [
    "from pycbc.catalog import Catalog\n",
    "\n",
    "catalog = Catalog(source='gwtc-2')\n",
    "    \n",
    "events = ['GW190408_181802-v1']\n",
    "    \n",
    "psd = {}\n",
    "\n",
    "strain = catalog['GW190408_181802-v1'].strain('H1')\n"
   ]
  },
  {
   "cell_type": "code",
   "execution_count": 55,
   "metadata": {},
   "outputs": [
    {
     "data": {
      "text/plain": [
       "32.0"
      ]
     },
     "execution_count": 55,
     "metadata": {},
     "output_type": "execute_result"
    }
   ],
   "source": [
    "strain.shape[0]/4096.0"
   ]
  },
  {
   "cell_type": "code",
   "execution_count": 56,
   "metadata": {},
   "outputs": [
    {
     "data": {
      "text/plain": [
       "2.1035000629919383"
      ]
     },
     "execution_count": 56,
     "metadata": {},
     "output_type": "execute_result"
    }
   ],
   "source": [
    "np.sqrt(sigmasq(TimeSeries((mean_preds[0]).astype('float64'), delta_t = 1.0/2048), \n",
    "            psd=None,low_frequency_cutoff=30.0)/32.0)\n"
   ]
  },
  {
   "cell_type": "code",
   "execution_count": null,
   "metadata": {},
   "outputs": [],
   "source": []
  },
  {
   "cell_type": "code",
   "execution_count": 47,
   "metadata": {},
   "outputs": [],
   "source": [
    "residuals_signal_GW190412 = GW190412_PE-mean_reconstructions[1]\n",
    "residuals_signal_GW190602 = GW190602_PE-mean_reconstructions[2]\n",
    "residuals_signal_GW190517 = GW190517_PE-mean_reconstructions[3]"
   ]
  },
  {
   "cell_type": "code",
   "execution_count": 48,
   "metadata": {},
   "outputs": [],
   "source": [
    "from pycbc.filter import sigma, matched_filter\n",
    "from pycbc.types import TimeSeries\n",
    "\n",
    "snr_GW190521 = sigma(TimeSeries(residuals_signal_GW190521.astype('float64'), delta_t = 1.0/2048), \n",
    "            psd=None,low_frequency_cutoff=30.0) \n",
    "\n",
    "snr_GW190412 = sigma(TimeSeries(residuals_signal_GW190412.astype('float64'), delta_t = 1.0/2048), \n",
    "            psd=None,low_frequency_cutoff=30.0) \n",
    "\n",
    "snr_GW190602 = sigma(TimeSeries(residuals_signal_GW190602.astype('float64'), delta_t = 1.0/2048), \n",
    "            psd=None,low_frequency_cutoff=30.0) \n",
    "\n",
    "snr_GW190517 = sigma(TimeSeries(residuals_signal_GW190517.astype('float64'), delta_t = 1.0/2048), \n",
    "            psd=None,low_frequency_cutoff=30.0)             \n",
    "                    "
   ]
  },
  {
   "cell_type": "code",
   "execution_count": 53,
   "metadata": {},
   "outputs": [],
   "source": [
    "#original_noise = np.concatenate([GW190521_noise, GW190412_noise, GW190602_noise, GW190517_noise], axis=0)\n",
    "\n",
    "#residuals_noise = [(o-m[0:2048]) for o,m,s in zip(original_noise, mean_preds_noise, std_preds_noise)]\n",
    "#residuals_noise = np.array(residuals_noise)\n"
   ]
  },
  {
   "cell_type": "code",
   "execution_count": 54,
   "metadata": {},
   "outputs": [],
   "source": [
    "#residuals_signal_snr = [get_snr_frac(signal) for signal in residuals_signal]\n"
   ]
  },
  {
   "cell_type": "code",
   "execution_count": 52,
   "metadata": {},
   "outputs": [],
   "source": [
    "residuals_noise_snr = [sigma(TimeSeries(signal[0:2048], delta_t = 1.0/2048), psd=None,low_frequency_cutoff=30.0) \n",
    "                            for signal in mean_preds_noise.astype('float64')]\n"
   ]
  },
  {
   "cell_type": "code",
   "execution_count": null,
   "metadata": {},
   "outputs": [],
   "source": []
  },
  {
   "cell_type": "code",
   "execution_count": 28,
   "metadata": {},
   "outputs": [],
   "source": [
    "from pycbc.filter import sigma, matched_filter\n",
    "from pycbc.types import TimeSeries\n",
    "\n",
    "residuals_signal_snr = [matched_filter(TimeSeries(signal[0:2048], delta_t = 1.0/2048), TimeSeries(strain, delta_t = 1.0/2048),\n",
    "                                        psd=None,low_frequency_cutoff=30.0) \n",
    "                            for signal, strain in zip(mean_preds.astype('float64'), residuals_signal.astype('float64'))]\n"
   ]
  },
  {
   "cell_type": "code",
   "execution_count": 29,
   "metadata": {},
   "outputs": [],
   "source": [
    "snr_signals =  [max(abs(snr.numpy())) for snr in residuals_signal_snr]\n"
   ]
  },
  {
   "cell_type": "code",
   "execution_count": 30,
   "metadata": {},
   "outputs": [],
   "source": [
    "snr_signals = np.array(snr_signals)"
   ]
  },
  {
   "cell_type": "code",
   "execution_count": null,
   "metadata": {},
   "outputs": [],
   "source": []
  },
  {
   "cell_type": "code",
   "execution_count": 66,
   "metadata": {},
   "outputs": [
    {
     "data": {
      "text/plain": [
       "[ShapiroResult(statistic=0.9988593076192427, pvalue=0.20487234247861125),\n",
       " ShapiroResult(statistic=0.9985135625521379, pvalue=0.06701710023729192),\n",
       " ShapiroResult(statistic=0.9992322834469632, pvalue=0.5729094076674619),\n",
       " ShapiroResult(statistic=0.9992826632550192, pvalue=0.6393023524841621)]"
      ]
     },
     "execution_count": 66,
     "metadata": {},
     "output_type": "execute_result"
    }
   ],
   "source": [
    "from scipy import stats\n",
    "\n",
    "[stats.shapiro(signal) for signal in residuals_signal]"
   ]
  },
  {
   "cell_type": "code",
   "execution_count": 35,
   "metadata": {},
   "outputs": [],
   "source": [
    "residuals_noise_snr = [matched_filter(TimeSeries(signal[0:2048], delta_t = 1.0/2048), TimeSeries(strain, delta_t = 1.0/2048),\n",
    "                                        psd=None,low_frequency_cutoff=30.0) \n",
    "                            for signal, strain in zip(mean_preds_noise.astype('float64'), residuals_noise.astype('float64'))]\n"
   ]
  },
  {
   "cell_type": "code",
   "execution_count": 37,
   "metadata": {},
   "outputs": [],
   "source": [
    "snr_noise =  [max(abs(snr.numpy())) for snr in residuals_noise_snr]\n",
    "\n",
    "snr_noise = np.array(snr_noise)\n"
   ]
  },
  {
   "cell_type": "code",
   "execution_count": 43,
   "metadata": {},
   "outputs": [
    {
     "data": {
      "text/plain": [
       "array([2.03821429, 1.29324408, 1.715343  , 3.30608058])"
      ]
     },
     "execution_count": 43,
     "metadata": {},
     "output_type": "execute_result"
    }
   ],
   "source": [
    "snr_signals"
   ]
  },
  {
   "cell_type": "code",
   "execution_count": null,
   "metadata": {},
   "outputs": [],
   "source": []
  },
  {
   "cell_type": "code",
   "execution_count": null,
   "metadata": {},
   "outputs": [],
   "source": []
  },
  {
   "cell_type": "code",
   "execution_count": null,
   "metadata": {},
   "outputs": [],
   "source": []
  }
 ],
 "metadata": {
  "kernelspec": {
   "display_name": "tensorflow2.7",
   "language": "python",
   "name": "python3"
  },
  "language_info": {
   "codemirror_mode": {
    "name": "ipython",
    "version": 3
   },
   "file_extension": ".py",
   "mimetype": "text/x-python",
   "name": "python",
   "nbconvert_exporter": "python",
   "pygments_lexer": "ipython3",
   "version": "3.9.6"
  }
 },
 "nbformat": 4,
 "nbformat_minor": 2
}
